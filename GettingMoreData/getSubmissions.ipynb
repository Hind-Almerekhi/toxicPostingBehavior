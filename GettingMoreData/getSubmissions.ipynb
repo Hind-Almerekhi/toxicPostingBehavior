{
 "cells": [
  {
   "cell_type": "code",
   "execution_count": null,
   "id": "7fbcd51f",
   "metadata": {},
   "outputs": [
    {
     "name": "stdout",
     "output_type": "stream",
     "text": [
      "2006\n",
      "2007\n"
     ]
    }
   ],
   "source": [
    "import json\n",
    "import os\n",
    "import csv\n",
    "import glob\n",
    "import errno\n",
    "import datetime\n",
    "import pandas as pd\n",
    "root_dir = os.path.abspath(os.curdir)\n",
    "raw_dir = os.path.dirname(root_dir)+\"/RawSubmissions/\"\n",
    "ids_dir = os.path.dirname(root_dir)+\"/SubmissionIDs/\"\n",
    "\n",
    "fields = ['ID','Author','LinkID','Subreddit','Text','Time','Link']\n",
    "\n",
    "for year in range(2006,2008):\n",
    "    print(year)\n",
    "    submissions = raw_dir+'RS_v2_'+str(year)+'*'\n",
    "    files = sorted(glob.glob(submissions))\n",
    "    IDFile = ids_dir+str(year)+'.csv'\n",
    "    IDs = [x.strip() for x in open(IDFile)]\n",
    "    outfile = os.path.dirname(root_dir)+'/ExtractedSubmissions/'+str(year)+'.csv'\n",
    "\n",
    "    os.makedirs(os.path.dirname(outfile), exist_ok=True)\n",
    "    for file in files:\n",
    "        try:\n",
    "            with open(file,encoding=\"utf-8\") as cf: # No need to specify 'r': this is the default.\n",
    "                \n",
    "                \n",
    "                with open(outfile, 'a', encoding=\"utf-8\") as f:\n",
    "                      writer = csv.writer(f,delimiter=',',lineterminator='\\n')\n",
    "                      for line in cf:\n",
    "                        data = json.loads(line.strip())\n",
    "                        theID = data['id']\n",
    "                        if theID in IDs:\n",
    "                            \n",
    "                            cid = 't3_'+data['id']\n",
    "                            subreddit = data['subreddit']\n",
    "                            link = data['url']\n",
    "                            author = data['author']\n",
    "                            cdate =int(data['created_utc'])\n",
    "                            thedate = datetime.datetime.utcfromtimestamp(cdate)\n",
    "                            cformat = thedate.strftime('%Y-%m-%d %H:%M:%S')\n",
    "                            if 'selftext' in data:\n",
    "                                txt = data['title']+data['selftext']\n",
    "                            else:\n",
    "                                txt = data['title']\n",
    "                            comment = \" \".join(txt.split())\n",
    "                            writer.writerow([theID,author,cid,subreddit,comment,cformat,link])\n",
    "                            \n",
    "        except IOError as exc:\n",
    "            if exc.errno != errno.EISDIR: # Do not fail if a directory is found, just ignore it.\n",
    "                raise # Propagate other kinds of IOError.\n",
    "    df = pd.read_csv(outfile,header=None,names =fields)\n",
    "    df = df.drop_duplicates(subset='ID', keep='first')\n",
    "    final = df.set_index('ID').loc[IDs].reset_index()\n",
    "    os.remove(outfile)\n",
    "    final.to_csv(outfile,index=False,header=False)\n",
    "print(\"Done!\")"
   ]
  },
  {
   "cell_type": "code",
   "execution_count": null,
   "id": "71da0b9d",
   "metadata": {},
   "outputs": [],
   "source": []
  }
 ],
 "metadata": {
  "kernelspec": {
   "display_name": "tf-gpu",
   "language": "python",
   "name": "tf-gpu"
  },
  "language_info": {
   "codemirror_mode": {
    "name": "ipython",
    "version": 3
   },
   "file_extension": ".py",
   "mimetype": "text/x-python",
   "name": "python",
   "nbconvert_exporter": "python",
   "pygments_lexer": "ipython3",
   "version": "3.8.8"
  }
 },
 "nbformat": 4,
 "nbformat_minor": 5
}
