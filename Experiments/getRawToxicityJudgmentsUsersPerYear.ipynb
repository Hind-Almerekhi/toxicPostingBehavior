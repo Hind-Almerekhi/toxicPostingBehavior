{
 "cells": [
  {
   "cell_type": "code",
   "execution_count": 1,
   "id": "328fe758",
   "metadata": {},
   "outputs": [],
   "source": [
    "import pandas as pd\n",
    "import os\n",
    "import gc\n",
    "root_dir = os.path.abspath(os.curdir)\n",
    "pred_dir_subs = os.path.dirname(root_dir)+\"/SubmissionPredictions/\"\n",
    "pred_dir_coms = os.path.dirname(root_dir)+\"/CommentPredictions/\"\n",
    "#Create directory to save experiment results\n",
    "results_dir = os.path.dirname(root_dir)+\"/Results/\"\n",
    "os.makedirs(results_dir, exist_ok=True)"
   ]
  },
  {
   "cell_type": "code",
   "execution_count": 2,
   "id": "29f5c863",
   "metadata": {},
   "outputs": [],
   "source": [
    "df_dtype = {\n",
    "        \"Author\": 'category',\n",
    "        \"Probability\":'float',\n",
    "        \"Label\":'string'}\n",
    "\n",
    "\n",
    "def getRawCounts(collection,pred_dir):\n",
    "    print(collection)\n",
    "    for year in range(2006,2008):\n",
    "        print(year)\n",
    "        yearFile = pred_dir+str(year)+'.csv'\n",
    "\n",
    "        output = results_dir+\"rawToxicityCounts-\"+collection+\"-\"+str(year)+\".csv\"\n",
    "        with open(output,'a') as out:\n",
    "            out.write(\"Username,Class1,Count1,Class2,Count2,Class3,Count3\\n\")\n",
    "     \n",
    "            fields =['Author','Probability','Label']\n",
    "\n",
    "            df = pd.read_csv(yearFile, usecols=fields,dtype=df_dtype)\n",
    "            label = df.Label.mode().values\n",
    "\n",
    "            for user,df1 in df.groupby('Author'):\n",
    "                HT = 0\n",
    "                NT = 0\n",
    "                ST = 0\n",
    "                out.write(user+',')\n",
    "                counter = df1.groupby(['Label'])\n",
    "                if 'non_toxic' in counter.groups.keys():\n",
    "                    NT = counter.get_group('non_toxic').count()['Probability']\n",
    "                    NT1 = (NT/float(len(df1)))*100\n",
    "                else:\n",
    "                    NT1 = 0\n",
    "                if 'highly_toxic' in counter.groups.keys():\n",
    "                    HT = counter.get_group('highly_toxic').count()['Probability']\n",
    "                    HT1 = (HT/float(len(df1)))*100\n",
    "                else:\n",
    "                    HT1 = 0\n",
    "                if 'slightly_toxic' in counter.groups.keys():\n",
    "                    ST = counter.get_group('slightly_toxic').count()['Probability']\n",
    "                    ST1 = (ST/float(len(df1)))*100\n",
    "                else:\n",
    "                    ST1 = 0\n",
    "\n",
    "                out.write(\"non_toxic\"+','+str(NT)+',')\n",
    "\n",
    "                out.write(\"highly_toxic\"+','+str(HT)+',')\n",
    "\n",
    "                out.write(\"slightly_toxic\"+','+str(ST)+'\\n')\n",
    "            del df\n",
    "            gc.collect()\n",
    "    print(\"Done!\")"
   ]
  },
  {
   "cell_type": "code",
   "execution_count": null,
   "id": "ed20ea1c",
   "metadata": {},
   "outputs": [
    {
     "name": "stdout",
     "output_type": "stream",
     "text": [
      "Submission\n",
      "2006\n",
      "2007\n",
      "Done!\n",
      "Comment\n",
      "2006\n",
      "2007\n"
     ]
    }
   ],
   "source": [
    "getRawCounts(\"Submission\",pred_dir_subs)\n",
    "getRawCounts(\"Comment\",pred_dir_coms)"
   ]
  },
  {
   "cell_type": "code",
   "execution_count": null,
   "id": "43822e51",
   "metadata": {},
   "outputs": [],
   "source": []
  }
 ],
 "metadata": {
  "kernelspec": {
   "display_name": "tf-gpu",
   "language": "python",
   "name": "tf-gpu"
  },
  "language_info": {
   "codemirror_mode": {
    "name": "ipython",
    "version": 3
   },
   "file_extension": ".py",
   "mimetype": "text/x-python",
   "name": "python",
   "nbconvert_exporter": "python",
   "pygments_lexer": "ipython3",
   "version": "3.8.8"
  }
 },
 "nbformat": 4,
 "nbformat_minor": 5
}
