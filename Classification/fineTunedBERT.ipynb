{
 "cells": [
  {
   "cell_type": "code",
   "execution_count": 1,
   "metadata": {
    "executionInfo": {
     "elapsed": 16418,
     "status": "ok",
     "timestamp": 1634414958681,
     "user": {
      "displayName": "Hind Al-merekhi",
      "photoUrl": "https://lh3.googleusercontent.com/a-/AOh14GjbgXvVipF4Gfl2P4GXBOODjteaVq2xRgus_ZeRnw=s64",
      "userId": "01236544581272186025"
     },
     "user_tz": -180
    },
    "id": "5eLPpcvAYejI"
   },
   "outputs": [],
   "source": [
    "%reload_ext autoreload\n",
    "%autoreload 2\n",
    "%matplotlib inline\n",
    "import os\n",
    "os.environ[\"CUDA_DEVICE_ORDER\"]=\"PCI_BUS_ID\";\n",
    "os.environ[\"CUDA_VISIBLE_DEVICES\"]=\"0\";   \n",
    "import re\n",
    "import ktrain\n",
    "from ktrain import text\n",
    "import pandas as pd\n",
    "from sklearn.model_selection import train_test_split\n",
    "import numpy as np\n",
    "from sklearn.metrics import accuracy_score, recall_score, precision_score, f1_score, roc_auc_score\n",
    "from sklearn.metrics import classification_report\n",
    "from sklearn.metrics import confusion_matrix\n",
    "from sklearn.utils.class_weight import compute_class_weight\n",
    "from sklearn.preprocessing import MultiLabelBinarizer\n",
    "import tensorflow as tf\n",
    "from tensorflow.keras import activations\n",
    "from utils import bert_utils, plots\n",
    "root_dir = os.path.abspath(os.curdir)\n",
    "base_dir = os.path.dirname(root_dir)+\"/Data/\"\n",
    "training_dataset = base_dir+'trainingDataset-toxicComments.csv'\n",
    "#Create directory to save models\n",
    "mod_dir = os.path.dirname(root_dir)+\"/Models/\"\n",
    "os.makedirs(mod_dir, exist_ok=True)"
   ]
  },
  {
   "cell_type": "markdown",
   "metadata": {
    "id": "0i6M2xxoYejM"
   },
   "source": [
    "## Load the Data Into Arrays"
   ]
  },
  {
   "cell_type": "code",
   "execution_count": 2,
   "metadata": {
    "executionInfo": {
     "elapsed": 442,
     "status": "ok",
     "timestamp": 1634414980144,
     "user": {
      "displayName": "Hind Al-merekhi",
      "photoUrl": "https://lh3.googleusercontent.com/a-/AOh14GjbgXvVipF4Gfl2P4GXBOODjteaVq2xRgus_ZeRnw=s64",
      "userId": "01236544581272186025"
     },
     "user_tz": -180
    },
    "id": "Fit9w3mByovJ"
   },
   "outputs": [],
   "source": [
    "def focal_loss(gamma=2., alpha=4., from_logits=False):\n",
    "    gamma = float(gamma)\n",
    "    alpha = float(alpha)\n",
    "\n",
    "    def focal_loss_fixed(y_true, y_pred):\n",
    "        \"\"\"Focal loss for multi-classification\n",
    "        FL(p_t)=-alpha(1-p_t)^{gamma}ln(p_t)\n",
    "        Notice: y_pred is probability after softmax if from_logits is False.\n",
    "        gradient is d(Fl)/d(p_t) not d(Fl)/d(x) as described in paper\n",
    "        d(Fl)/d(p_t) * [p_t(1-p_t)] = d(Fl)/d(x)\n",
    "        Focal Loss for Dense Object Detection\n",
    "        https://arxiv.org/abs/1708.02002\n",
    "\n",
    "        Arguments:\n",
    "            y_true {tensor} -- ground truth labels, shape of [batch_size, num_cls]\n",
    "            y_pred {tensor} -- model's output, shape of [batch_size, num_cls]\n",
    "\n",
    "        Keyword Arguments:\n",
    "            gamma {float} -- (default: {2.0})\n",
    "            alpha {float} -- (default: {4.0})\n",
    "\n",
    "        Returns:\n",
    "            [tensor] -- loss.\n",
    "        \"\"\"\n",
    "        epsilon = 1.e-9\n",
    "        y_true = tf.cast(y_true, dtype=tf.float32)\n",
    "        y_pred = tf.cast(y_pred, dtype=tf.float32)\n",
    "        if from_logits:\n",
    "            y_pred = activations.softmax(y_pred)\n",
    "\n",
    "        model_out = tf.add(y_pred, epsilon)\n",
    "        ce = tf.multiply(y_true, -tf.math.log(model_out))\n",
    "        weight = tf.multiply(y_true, tf.pow(tf.subtract(1., model_out), gamma))\n",
    "        fl = tf.multiply(alpha, tf.multiply(weight, ce))\n",
    "        reduced_fl = tf.reduce_max(fl, axis=1)\n",
    "        return tf.reduce_mean(reduced_fl)\n",
    "    return focal_loss_fixed"
   ]
  },
  {
   "cell_type": "code",
   "execution_count": 3,
   "metadata": {
    "executionInfo": {
     "elapsed": 606,
     "status": "ok",
     "timestamp": 1634414984099,
     "user": {
      "displayName": "Hind Al-merekhi",
      "photoUrl": "https://lh3.googleusercontent.com/a-/AOh14GjbgXvVipF4Gfl2P4GXBOODjteaVq2xRgus_ZeRnw=s64",
      "userId": "01236544581272186025"
     },
     "user_tz": -180
    },
    "id": "tHZ8-q4QfYP_"
   },
   "outputs": [],
   "source": [
    "seed_value=13\n",
    "categories = [\"highly_toxic\",\"slightly_toxic\",\"non_toxic\"]\n",
    "\n",
    "def get_dataset_partitions_pd(df, train_split=0.8, val_split=0.1, test_split=0.1, target_variable=None):\n",
    "    assert (train_split + test_split + val_split) == 1\n",
    "    \n",
    "    # Only allows for equal validation and test splits\n",
    "    assert val_split == test_split \n",
    "\n",
    "    # Shuffle\n",
    "    df_sample = df.sample(frac=1, random_state=seed_value)\n",
    "    # Specify seed to always have the same split distribution between runs\n",
    "    # If target variable is provided, generate stratified sets\n",
    "    if target_variable is not None:\n",
    "      grouped_df = df_sample.groupby(target_variable)\n",
    "      arr_list = [np.split(g, [int(train_split * len(g)), int((1 - val_split) * len(g))]) for i, g in grouped_df]\n",
    "\n",
    "      train_ds = pd.concat([t[0] for t in arr_list])\n",
    "      val_ds = pd.concat([t[1] for t in arr_list])\n",
    "      test_ds = pd.concat([v[2] for v in arr_list])\n",
    "\n",
    "    else:\n",
    "      indices_or_sections = [int(train_split * len(df)), int((1 - val_split) * len(df))]\n",
    "      train_ds, val_ds, test_ds = np.split(df_sample, indices_or_sections)\n",
    "    \n",
    "    return train_ds, val_ds, test_ds\n",
    "\n",
    "\n",
    "def generate_class_weights(class_series, multi_class=True, one_hot_encoded=False):\n",
    "  if multi_class:\n",
    "    # If class is one hot encoded, transform to categorical labels to use compute_class_weight   \n",
    "    if one_hot_encoded:\n",
    "      class_series = np.argmax(class_series, axis=1)\n",
    "  \n",
    "    # Compute class weights with sklearn method\n",
    "    class_labels = np.unique(class_series)\n",
    "    class_weights = compute_class_weight(class_weight='balanced', classes=class_labels, y=class_series)\n",
    "    return dict(zip(class_labels, class_weights))\n",
    "  else:\n",
    "    # It is neccessary that the multi-label values are one-hot encoded\n",
    "    mlb = None\n",
    "    if not one_hot_encoded:\n",
    "      mlb = MultiLabelBinarizer()\n",
    "      class_series = mlb.fit_transform(class_series)\n",
    "\n",
    "    n_samples = len(class_series)\n",
    "    n_classes = len(class_series[0])\n",
    "\n",
    "    # Count each class frequency\n",
    "    class_count = [0] * n_classes\n",
    "    for classes in class_series:\n",
    "        for index in range(n_classes):\n",
    "            if classes[index] != 0:\n",
    "                class_count[index] += 1\n",
    "    \n",
    "    # Compute class weights using balanced method\n",
    "    class_weights = [n_samples / (n_classes * freq) if freq > 0 else 1 for freq in class_count]\n",
    "    class_labels = range(len(class_weights)) if mlb is None else mlb.classes_\n",
    "    return dict(zip(class_labels, class_weights))\n",
    "\n",
    "def clean(text, newline=True, quote=True, bullet_point=True, \n",
    "          link=True, strikethrough=True, spoiler=True,\n",
    "          code=True, superscript=True, table=True, heading=True):\n",
    "    \"\"\"\n",
    "    Cleans text (string).\n",
    "    Removes common Reddit special characters/symbols:\n",
    "      * \\n (newlines)\n",
    "      * &gt; (> quotes)\n",
    "      * * or &amp;#x200B; (bullet points)\n",
    "      * []() (links)\n",
    "      * etc (see below)\n",
    "    Specific removals can be turned off, but everything is on by default.\n",
    "    Standard punctuation etc is deliberately not removed, can be done in a\n",
    "    second round manually, or may be preserved in any case.\n",
    "    \"\"\"\n",
    "    # Newlines (replaced with space to preserve cases like word1\\nword2)\n",
    "    if newline:\n",
    "        text = re.sub(r'\\n+', ' ', text)\n",
    "\n",
    "        # Remove resulting ' '\n",
    "        text = text.strip()\n",
    "        text = re.sub(r'\\s\\s+', ' ', text)\n",
    "\n",
    "    # > Quotes\n",
    "    if quote:\n",
    "        text = re.sub(r'\\\"?\\\\?&?gt;?', '', text)\n",
    "\n",
    "    # Bullet points/asterisk (bold/italic)\n",
    "    if bullet_point:\n",
    "        text = re.sub(r'\\*', '', text)\n",
    "        text = re.sub('&amp;#x200B;', '', text)\n",
    "\n",
    "    # []() Link (Also removes the hyperlink)\n",
    "    if link:\n",
    "        text = re.sub(r'\\[.*?\\]\\(.*?\\)', '', text)\n",
    "\n",
    "    # Strikethrough\n",
    "    if strikethrough:\n",
    "        text = re.sub('~', '', text)\n",
    "\n",
    "    # Spoiler, which is used with < less-than (Preserves the text)\n",
    "    if spoiler:\n",
    "        text = re.sub('&lt;', '', text)\n",
    "        text = re.sub(r'!(.*?)!', r'\\1', text)\n",
    "\n",
    "    # Code, inline and block\n",
    "    if code:\n",
    "        text = re.sub('`', '', text)\n",
    "\n",
    "    # Superscript (Preserves the text)\n",
    "    if superscript:\n",
    "        text = re.sub(r'\\^\\((.*?)\\)', r'\\1', text)\n",
    "\n",
    "    # Table\n",
    "    if table:\n",
    "        text = re.sub(r'\\|', ' ', text)\n",
    "        text = re.sub(':-', '', text)\n",
    "\n",
    "    # Heading\n",
    "    if heading:\n",
    "        text = re.sub('#', '', text)\n",
    "    return text\n",
    "             \n",
    "    \n",
    "def get_data():\n",
    "    dataset = pd.read_csv(training_dataset)\n",
    "    dataset = dataset.sample(frac=1,random_state=seed_value)\n",
    "    dataset['comment_text'] = dataset['comment_text'].apply(lambda x: clean(x))\n",
    "    # labels = dataset[categories].values.astype(np.float32)\n",
    "    # lab_sentences = dataset[\"comment_text\"].fillna(\"fillna\").str.lower()\n",
    "    # X = dataset.iloc[:,:2]\n",
    "    myLabels = dataset[categories]\n",
    "    \n",
    "    dataset['category'] = myLabels.idxmax(axis=1)\n",
    "    dataset['label']= dataset['category'].map({'highly_toxic':0, 'slightly_toxic':1,'non_toxic':2})\n",
    "    dataset['label'] = dataset['label'].astype('int')\n",
    "    y = dataset[['label']]\n",
    "    htoxic, stoxic, neither = np.bincount(dataset['label'])\n",
    "    total = neither + stoxic  + htoxic\n",
    "    print('Examples:\\n    Total: {}\\n    highly toxic: {} ({:.2f}% of total)\\n'.format(\n",
    "        total, htoxic, 100 * htoxic / total))\n",
    "    print('Examples:\\n    Total: {}\\n    slightly toxic: {} ({:.2f}% of total)\\n'.format(\n",
    "        total, stoxic, 100 * stoxic / total))\n",
    "    print('Examples:\\n    Total: {}\\n    Neither: {} ({:.2f}% of total)\\n'.format(\n",
    "        total, neither, 100 * neither / total))\n",
    "    print()\n",
    "    # eqs = calculate_bias(htoxic,stoxic,neither)\n",
    "    # print(eqs)\n",
    "    weights = generate_class_weights(dataset['label'].values, multi_class=True, one_hot_encoded=False)\n",
    "    print(weights)\n",
    "    print()\n",
    "    print(f'Distribution in original set:  \\n{y[\"label\"].value_counts().sort_index() / len(y)}')\n",
    "    train_ds, val_ds, test_ds = get_dataset_partitions_pd(dataset, target_variable=\"label\")\n",
    "    print(f'Distribution in training set: \\n{train_ds[\"label\"].value_counts().sort_index() / len(train_ds)}\\n\\n'+\n",
    "      f'Distribution in validation set: \\n{val_ds[\"label\"].value_counts().sort_index() / len(val_ds)}\\n\\n'+\n",
    "      f'Distribution in testing set: \\n{test_ds[\"label\"].value_counts().sort_index() / len(test_ds)}')\n",
    "    # X_train_, test_sentences, y_train_, y_test = train_test_split(\n",
    "    # lab_sentences,\n",
    "    # dataset['label'].values,\n",
    "    # test_size=0.10,\n",
    "    # random_state=seed_value,\n",
    "    # stratify=dataset['label'].values)\n",
    "    # train_sentences, val_sentences, y_train,  y_val = train_test_split(\n",
    "    # X_train_,\n",
    "    # y_train_,\n",
    "    # test_size=0.10,\n",
    "    # random_state=seed_value,\n",
    "    # stratify=y_train_)\n",
    "    print()\n",
    "    print(train_ds.shape, val_ds.shape, test_ds.shape)\n",
    "    train_sentences = train_ds['comment_text'].fillna(\"fillna\").str.lower()\n",
    "    y_train = train_ds['label'].values.astype(\"int\")\n",
    "    val_sentences = val_ds['comment_text'].fillna(\"fillna\").str.lower()\n",
    "    y_val = val_ds['label'].values.astype(\"int\")\n",
    "    test_sentences = test_ds['comment_text'].fillna(\"fillna\").str.lower()\n",
    "    y_test = test_ds['label'].values.astype(\"int\")\n",
    "    return train_sentences, y_train, val_sentences, y_val, test_sentences, y_test,weights"
   ]
  },
  {
   "cell_type": "markdown",
   "metadata": {
    "id": "p7Cnki0gYejO"
   },
   "source": [
    "## STEP 1: Preprocess Data"
   ]
  },
  {
   "cell_type": "code",
   "execution_count": 4,
   "metadata": {
    "colab": {
     "base_uri": "https://localhost:8080/"
    },
    "executionInfo": {
     "elapsed": 1240,
     "status": "ok",
     "timestamp": 1634414989953,
     "user": {
      "displayName": "Hind Al-merekhi",
      "photoUrl": "https://lh3.googleusercontent.com/a-/AOh14GjbgXvVipF4Gfl2P4GXBOODjteaVq2xRgus_ZeRnw=s64",
      "userId": "01236544581272186025"
     },
     "user_tz": -180
    },
    "id": "RkhsCUX2czr6",
    "outputId": "5cc9c0b5-7324-454f-ca19-654154af561f"
   },
   "outputs": [
    {
     "name": "stdout",
     "output_type": "stream",
     "text": [
      "Examples:\n",
      "    Total: 10083\n",
      "    highly toxic: 667 (6.62% of total)\n",
      "\n",
      "Examples:\n",
      "    Total: 10083\n",
      "    slightly toxic: 1191 (11.81% of total)\n",
      "\n",
      "Examples:\n",
      "    Total: 10083\n",
      "    Neither: 8225 (81.57% of total)\n",
      "\n",
      "\n",
      "{0: 5.0389805097451275, 1: 2.821998320738875, 2: 0.4086322188449848}\n",
      "\n",
      "Distribution in original set:  \n",
      "0    0.066151\n",
      "1    0.118120\n",
      "2    0.815729\n",
      "Name: label, dtype: float64\n",
      "Distribution in training set: \n",
      "0    0.066088\n",
      "1    0.118041\n",
      "2    0.815871\n",
      "Name: label, dtype: float64\n",
      "\n",
      "Distribution in validation set: \n",
      "0    0.066468\n",
      "1    0.118056\n",
      "2    0.815476\n",
      "Name: label, dtype: float64\n",
      "\n",
      "Distribution in testing set: \n",
      "0    0.066337\n",
      "1    0.118812\n",
      "2    0.814851\n",
      "Name: label, dtype: float64\n",
      "\n",
      "(8065, 7) (1008, 7) (1010, 7)\n"
     ]
    }
   ],
   "source": [
    "x_train, y_train, x_test,y_test,x_val, y_val,weights= get_data()"
   ]
  },
  {
   "cell_type": "code",
   "execution_count": 5,
   "metadata": {
    "colab": {
     "base_uri": "https://localhost:8080/",
     "height": 817,
     "referenced_widgets": [
      "cd59858be7f3464889f46044e3ffc949",
      "ceb401676f0145518e6b852e0804dacf",
      "bf500539addd43c699a704cef9b25e43",
      "fd60254a5dc249ec829d2ccba9a642ff",
      "b90cc73d8ae444969041b8672a7a9f5d",
      "a8bcc59a41874f38ada623554d3e3ae2",
      "f1217df60af94d1b95a68b869df7405e",
      "c5bfb97513724929a85ab1164e404942",
      "549eba5340db4422a3d5f1f06c3689c4",
      "958667658df1456db3eb0c9b06c75557",
      "70077a3fc5ba450b90a91027eb04bcd3",
      "8a5b561d09054448b56c6154f485ed89",
      "95049fc3bd8d4a228a0739c5c38b4787",
      "da009d89130b41d394ff07c60540bc2e",
      "6cbcc68790c9464c9ac39a35c0e3693f",
      "dbde3f22194b4f7b98b45149f41c1793",
      "98d1f94b320c4d31b224c0cb74f1e5c6",
      "341bba1687d74bca9e45d16e3a0de821",
      "c793a6dc441148da93d01440bce26367",
      "ddf13d2fb3cd4904b7277cf0c5533b53",
      "6239399404f04d2bad7f6fdada0ca2ea",
      "7a8974d7d1bf456888e521f7ed4769eb",
      "a3739c80872d4991864562d24935f5b2",
      "467ad5aa144b47f9bac4ac7c049289de",
      "1f33ffd18ac345b4aeb996603607d3a6",
      "c2abf154642b43499c971b8ec3784b9a",
      "a6f9f85cdac14102a10b4531b6899a3c",
      "f05a0b38e3554061a7120548db1a7362",
      "7af56538987247739eb53b051f803e90",
      "8500f15cee81426991087d2b026ec2cf",
      "109c72f987904c4ebd9e2c419e3807a8",
      "73f5eca9959d4a31b048ecb524145e49",
      "5df140a2ed6f4b89a1f09459c4a1e3b8",
      "4b7abcf726f848f7b2cecdefe6249aaa",
      "cc43699730e544b683e38ec7c29636b9",
      "11388a96ae774fa7b99c35a9de83ae7a",
      "af1e67f8bf8144219174082c02214099",
      "cf2ec10e47ce419dbef5c742ab3c4dfe",
      "bf30fdf371a64a228e31afd23b08c19d",
      "f9067414a312443fb1b6ecad755ac608",
      "323a928567a14ea7a15b2af920d198ee",
      "5a55c521b33f453c83200b50f9b22fc0",
      "e3249358f3f84f7bb5c2dbcd117359b8",
      "d68f9ac02ec44e63983fb2e32d8a7503",
      "cee2a58676a1461288cfd0196a7f3877",
      "b302f5b324c845cab2a19a2755bd633a",
      "59cd5d5bcad44201a244136c03af6817",
      "105ca3cea003438f95fbfd8dfb04fd30",
      "ccd53a237fc24405826d06a28220c9ba",
      "81eaded03fb3472a83c86296537a4a8d",
      "3e8886a530f34a6da9a9d0273bee5241",
      "cc68427f068b40188d73db18c8091cb7",
      "a735b539ce3741b2b05b5e41a1031876",
      "9a46fa0e1b9449e08a371dd84d5d8f8e",
      "b7c9d10afabd4f448ba68b0f5f0cef50"
     ]
    },
    "executionInfo": {
     "elapsed": 854527,
     "status": "ok",
     "timestamp": 1634415853887,
     "user": {
      "displayName": "Hind Al-merekhi",
      "photoUrl": "https://lh3.googleusercontent.com/a-/AOh14GjbgXvVipF4Gfl2P4GXBOODjteaVq2xRgus_ZeRnw=s64",
      "userId": "01236544581272186025"
     },
     "user_tz": -180
    },
    "id": "_lamt8oYxn7C",
    "outputId": "e4c9bcb9-5d1a-498f-9b22-8b2514bda2bc"
   },
   "outputs": [
    {
     "name": "stdout",
     "output_type": "stream",
     "text": [
      "preprocessing train...\n",
      "language: en\n",
      "train sequence lengths:\n",
      "\tmean : 71\n",
      "\t95percentile : 189\n",
      "\t99percentile : 367\n"
     ]
    },
    {
     "data": {
      "text/html": [
       "\n",
       "<style>\n",
       "    /* Turns off some styling */\n",
       "    progress {\n",
       "        /* gets rid of default border in Firefox and Opera. */\n",
       "        border: none;\n",
       "        /* Needs to be in here for Safari polyfill so background images work as expected. */\n",
       "        background-size: auto;\n",
       "    }\n",
       "    .progress-bar-interrupted, .progress-bar-interrupted::-webkit-progress-bar {\n",
       "        background: #F44336;\n",
       "    }\n",
       "</style>\n"
      ],
      "text/plain": [
       "<IPython.core.display.HTML object>"
      ]
     },
     "metadata": {},
     "output_type": "display_data"
    },
    {
     "data": {
      "text/html": [],
      "text/plain": [
       "<IPython.core.display.HTML object>"
      ]
     },
     "metadata": {},
     "output_type": "display_data"
    },
    {
     "name": "stdout",
     "output_type": "stream",
     "text": [
      "Is Multi-Label? False\n",
      "preprocessing test...\n",
      "language: en\n",
      "test sequence lengths:\n",
      "\tmean : 71\n",
      "\t95percentile : 175\n",
      "\t99percentile : 351\n"
     ]
    },
    {
     "data": {
      "text/html": [
       "\n",
       "<style>\n",
       "    /* Turns off some styling */\n",
       "    progress {\n",
       "        /* gets rid of default border in Firefox and Opera. */\n",
       "        border: none;\n",
       "        /* Needs to be in here for Safari polyfill so background images work as expected. */\n",
       "        background-size: auto;\n",
       "    }\n",
       "    .progress-bar-interrupted, .progress-bar-interrupted::-webkit-progress-bar {\n",
       "        background: #F44336;\n",
       "    }\n",
       "</style>\n"
      ],
      "text/plain": [
       "<IPython.core.display.HTML object>"
      ]
     },
     "metadata": {},
     "output_type": "display_data"
    },
    {
     "data": {
      "text/html": [],
      "text/plain": [
       "<IPython.core.display.HTML object>"
      ]
     },
     "metadata": {},
     "output_type": "display_data"
    }
   ],
   "source": [
    "MODEL_NAME = 'bert-base-uncased'\n",
    "t = text.Transformer(MODEL_NAME, maxlen=512, class_names=categories)\n",
    "trn = t.preprocess_train(x_train.to_numpy(), y_train)\n",
    "val = t.preprocess_test(x_val.to_numpy(), y_val)\n",
    "model = t.get_classifier()\n",
    "model.compile(loss=focal_loss(alpha=7.0,from_logits=True),\n",
    "              optimizer='adam',\n",
    "              metrics=['accuracy'])\n",
    "\n",
    "#Run these two lines to find the best learning rate\n",
    "# learner = ktrain.get_learner(model, train_data=trn, val_data=val, batch_size=6)\n",
    "# learner.lr_find(show_plot=True, max_epochs=2)"
   ]
  },
  {
   "cell_type": "code",
   "execution_count": 6,
   "metadata": {
    "colab": {
     "base_uri": "https://localhost:8080/"
    },
    "executionInfo": {
     "elapsed": 2502573,
     "status": "ok",
     "timestamp": 1634422236854,
     "user": {
      "displayName": "Hind Al-merekhi",
      "photoUrl": "https://lh3.googleusercontent.com/a-/AOh14GjbgXvVipF4Gfl2P4GXBOODjteaVq2xRgus_ZeRnw=s64",
      "userId": "01236544581272186025"
     },
     "user_tz": -180
    },
    "id": "HXWAnxDWxUX9",
    "outputId": "7e18218e-d565-4bdd-e088-29ea750a5d5f"
   },
   "outputs": [],
   "source": [
    "#Run this line to train the model\n",
    "# learner.fit_onecycle(3e-5,4,class_weight=weights,checkpoint_folder=mod_dir)"
   ]
  },
  {
   "cell_type": "code",
   "execution_count": 7,
   "metadata": {
    "executionInfo": {
     "elapsed": 5517,
     "status": "ok",
     "timestamp": 1634422908748,
     "user": {
      "displayName": "Hind Al-merekhi",
      "photoUrl": "https://lh3.googleusercontent.com/a-/AOh14GjbgXvVipF4Gfl2P4GXBOODjteaVq2xRgus_ZeRnw=s64",
      "userId": "01236544581272186025"
     },
     "user_tz": -180
    },
    "id": "JyFFSB5srJlA"
   },
   "outputs": [],
   "source": [
    "#Load best\n",
    "model.load_weights(mod_dir+'weights-01.hdf5')\n",
    "learner = ktrain.get_learner(model, train_data=trn, val_data=val, batch_size=6)"
   ]
  },
  {
   "cell_type": "code",
   "execution_count": 8,
   "metadata": {
    "colab": {
     "base_uri": "https://localhost:8080/"
    },
    "executionInfo": {
     "elapsed": 21690,
     "status": "ok",
     "timestamp": 1634422932143,
     "user": {
      "displayName": "Hind Al-merekhi",
      "photoUrl": "https://lh3.googleusercontent.com/a-/AOh14GjbgXvVipF4Gfl2P4GXBOODjteaVq2xRgus_ZeRnw=s64",
      "userId": "01236544581272186025"
     },
     "user_tz": -180
    },
    "id": "3XBNXrrhaH7_",
    "outputId": "3685d2da-86e3-4415-cd43-092c7e0456e1"
   },
   "outputs": [
    {
     "name": "stdout",
     "output_type": "stream",
     "text": [
      "                precision    recall  f1-score   support\n",
      "\n",
      "  highly_toxic       0.74      0.69      0.71        67\n",
      "slightly_toxic       0.60      0.72      0.66       120\n",
      "     non_toxic       0.98      0.96      0.97       823\n",
      "\n",
      "      accuracy                           0.91      1010\n",
      "     macro avg       0.77      0.79      0.78      1010\n",
      "  weighted avg       0.92      0.91      0.91      1010\n",
      "\n"
     ]
    },
    {
     "data": {
      "text/plain": [
       "array([[ 46,  21,   0],\n",
       "       [ 16,  87,  17],\n",
       "       [  0,  36, 787]], dtype=int64)"
      ]
     },
     "execution_count": 8,
     "metadata": {},
     "output_type": "execute_result"
    }
   ],
   "source": [
    "learner.validate(class_names=t.get_classes())"
   ]
  },
  {
   "cell_type": "markdown",
   "metadata": {
    "id": "epCsIPiRYejR"
   },
   "source": [
    "## Predict on New Data"
   ]
  },
  {
   "cell_type": "code",
   "execution_count": 9,
   "metadata": {
    "executionInfo": {
     "elapsed": 578,
     "status": "ok",
     "timestamp": 1634422941027,
     "user": {
      "displayName": "Hind Al-merekhi",
      "photoUrl": "https://lh3.googleusercontent.com/a-/AOh14GjbgXvVipF4Gfl2P4GXBOODjteaVq2xRgus_ZeRnw=s64",
      "userId": "01236544581272186025"
     },
     "user_tz": -180
    },
    "id": "56RFk8ozYejR"
   },
   "outputs": [],
   "source": [
    "p = ktrain.get_predictor(learner.model, preproc=t)"
   ]
  },
  {
   "cell_type": "code",
   "execution_count": 10,
   "metadata": {
    "colab": {
     "base_uri": "https://localhost:8080/",
     "height": 37
    },
    "executionInfo": {
     "elapsed": 6,
     "status": "ok",
     "timestamp": 1634422942706,
     "user": {
      "displayName": "Hind Al-merekhi",
      "photoUrl": "https://lh3.googleusercontent.com/a-/AOh14GjbgXvVipF4Gfl2P4GXBOODjteaVq2xRgus_ZeRnw=s64",
      "userId": "01236544581272186025"
     },
     "user_tz": -180
    },
    "id": "MV5zLQs4acgR",
    "outputId": "7300eff9-5b00-46b0-93fe-059e15540824"
   },
   "outputs": [
    {
     "data": {
      "text/plain": [
       "'non_toxic'"
      ]
     },
     "execution_count": 10,
     "metadata": {},
     "output_type": "execute_result"
    }
   ],
   "source": [
    "p.predict(\"Okay-- Take care sweetie.\")"
   ]
  },
  {
   "cell_type": "code",
   "execution_count": 11,
   "metadata": {
    "colab": {
     "base_uri": "https://localhost:8080/",
     "height": 37
    },
    "executionInfo": {
     "elapsed": 6,
     "status": "ok",
     "timestamp": 1634422944405,
     "user": {
      "displayName": "Hind Al-merekhi",
      "photoUrl": "https://lh3.googleusercontent.com/a-/AOh14GjbgXvVipF4Gfl2P4GXBOODjteaVq2xRgus_ZeRnw=s64",
      "userId": "01236544581272186025"
     },
     "user_tz": -180
    },
    "id": "mybbQx-aYejR",
    "outputId": "d1a299f3-028e-440f-dce3-455592a0ed4a"
   },
   "outputs": [
    {
     "data": {
      "text/plain": [
       "'slightly_toxic'"
      ]
     },
     "execution_count": 11,
     "metadata": {},
     "output_type": "execute_result"
    }
   ],
   "source": [
    "p.predict(\"If you don't stop immediately, I will kill you.\")"
   ]
  },
  {
   "cell_type": "code",
   "execution_count": 12,
   "metadata": {
    "colab": {
     "base_uri": "https://localhost:8080/",
     "height": 37
    },
    "executionInfo": {
     "elapsed": 590,
     "status": "ok",
     "timestamp": 1634422946791,
     "user": {
      "displayName": "Hind Al-merekhi",
      "photoUrl": "https://lh3.googleusercontent.com/a-/AOh14GjbgXvVipF4Gfl2P4GXBOODjteaVq2xRgus_ZeRnw=s64",
      "userId": "01236544581272186025"
     },
     "user_tz": -180
    },
    "id": "-cg4YNzMhbyS",
    "outputId": "95ceb8fc-ee00-45ff-d9fd-8bb87a835caa"
   },
   "outputs": [
    {
     "data": {
      "text/plain": [
       "'highly_toxic'"
      ]
     },
     "execution_count": 12,
     "metadata": {},
     "output_type": "execute_result"
    }
   ],
   "source": [
    "p.predict(\"You fucking asshole! WTF is wrong with you?!\")"
   ]
  },
  {
   "cell_type": "code",
   "execution_count": 13,
   "metadata": {
    "colab": {
     "base_uri": "https://localhost:8080/",
     "height": 119
    },
    "executionInfo": {
     "elapsed": 1385,
     "status": "ok",
     "timestamp": 1634422950167,
     "user": {
      "displayName": "Hind Al-merekhi",
      "photoUrl": "https://lh3.googleusercontent.com/a-/AOh14GjbgXvVipF4Gfl2P4GXBOODjteaVq2xRgus_ZeRnw=s64",
      "userId": "01236544581272186025"
     },
     "user_tz": -180
    },
    "id": "6nEeZYa4hnKc",
    "outputId": "12bb1ca2-9392-4931-c865-d22e5479a83d"
   },
   "outputs": [
    {
     "name": "stdout",
     "output_type": "stream",
     "text": [
      "preprocessing test...\n",
      "language: en\n",
      "test sequence lengths:\n",
      "\tmean : 70\n",
      "\t95percentile : 191\n",
      "\t99percentile : 417\n"
     ]
    },
    {
     "data": {
      "text/html": [
       "\n",
       "<style>\n",
       "    /* Turns off some styling */\n",
       "    progress {\n",
       "        /* gets rid of default border in Firefox and Opera. */\n",
       "        border: none;\n",
       "        /* Needs to be in here for Safari polyfill so background images work as expected. */\n",
       "        background-size: auto;\n",
       "    }\n",
       "    .progress-bar-interrupted, .progress-bar-interrupted::-webkit-progress-bar {\n",
       "        background: #F44336;\n",
       "    }\n",
       "</style>\n"
      ],
      "text/plain": [
       "<IPython.core.display.HTML object>"
      ]
     },
     "metadata": {},
     "output_type": "display_data"
    },
    {
     "data": {
      "text/html": [],
      "text/plain": [
       "<IPython.core.display.HTML object>"
      ]
     },
     "metadata": {},
     "output_type": "display_data"
    }
   ],
   "source": [
    "test = t.preprocess_test(x_test.to_numpy(),y_test)"
   ]
  },
  {
   "cell_type": "code",
   "execution_count": 14,
   "metadata": {
    "colab": {
     "base_uri": "https://localhost:8080/"
    },
    "executionInfo": {
     "elapsed": 44087,
     "status": "ok",
     "timestamp": 1634422996563,
     "user": {
      "displayName": "Hind Al-merekhi",
      "photoUrl": "https://lh3.googleusercontent.com/a-/AOh14GjbgXvVipF4Gfl2P4GXBOODjteaVq2xRgus_ZeRnw=s64",
      "userId": "01236544581272186025"
     },
     "user_tz": -180
    },
    "id": "3e4aHMeZiB5q",
    "outputId": "855de2ea-9370-4cc5-b53a-7a5c8daf174a"
   },
   "outputs": [
    {
     "name": "stdout",
     "output_type": "stream",
     "text": [
      "                precision    recall  f1-score   support\n",
      "\n",
      "  highly_toxic       0.78      0.70      0.74        67\n",
      "slightly_toxic       0.62      0.76      0.68       119\n",
      "     non_toxic       0.98      0.95      0.96       822\n",
      "\n",
      "      accuracy                           0.91      1008\n",
      "     macro avg       0.79      0.80      0.80      1008\n",
      "  weighted avg       0.92      0.91      0.92      1008\n",
      "\n"
     ]
    },
    {
     "data": {
      "text/plain": [
       "array([[ 47,  18,   2],\n",
       "       [ 11,  90,  18],\n",
       "       [  2,  37, 783]], dtype=int64)"
      ]
     },
     "execution_count": 14,
     "metadata": {},
     "output_type": "execute_result"
    }
   ],
   "source": [
    "learner.validate(val_data=(test),class_names=t.get_classes())"
   ]
  },
  {
   "cell_type": "code",
   "execution_count": 15,
   "metadata": {
    "colab": {
     "base_uri": "https://localhost:8080/"
    },
    "executionInfo": {
     "elapsed": 21320,
     "status": "ok",
     "timestamp": 1634423020174,
     "user": {
      "displayName": "Hind Al-merekhi",
      "photoUrl": "https://lh3.googleusercontent.com/a-/AOh14GjbgXvVipF4Gfl2P4GXBOODjteaVq2xRgus_ZeRnw=s64",
      "userId": "01236544581272186025"
     },
     "user_tz": -180
    },
    "id": "xaTL3mWajPaQ",
    "outputId": "a4d9e2f3-3357-4c24-c29d-da8ab5012495"
   },
   "outputs": [
    {
     "name": "stdout",
     "output_type": "stream",
     "text": [
      "                precision    recall  f1-score   support\n",
      "\n",
      "  highly_toxic       0.74      0.69      0.71        67\n",
      "slightly_toxic       0.60      0.72      0.66       120\n",
      "     non_toxic       0.98      0.96      0.97       823\n",
      "\n",
      "      accuracy                           0.91      1010\n",
      "     macro avg       0.77      0.79      0.78      1010\n",
      "  weighted avg       0.92      0.91      0.91      1010\n",
      "\n",
      "\n",
      "[[ 46  21   0]\n",
      " [ 16  87  17]\n",
      " [  0  36 787]]\n",
      "\n",
      "roc-auc score:  0.9668324365893058\n",
      "f1:  0.7798979705720605\n",
      "precision:  0.7749859573102231\n",
      "recall:  0.7892749194489278\n",
      "accuracy:  0.9108910891089109\n",
      "\n"
     ]
    }
   ],
   "source": [
    "predictions = learner.predict(val_data=(val))\n",
    "print(classification_report(y_val, np.argmax(predictions, axis=-1),target_names=categories))\n",
    "print()\n",
    "print(confusion_matrix(y_val, np.argmax(predictions, axis=-1)))\n",
    "print()\n",
    "cv_ac = accuracy_score(y_val, np.argmax(predictions, axis=-1))\n",
    "cv_pre = precision_score(y_val, np.argmax(predictions, axis=-1), average='macro')\n",
    "cv_rec = recall_score(y_val, np.argmax(predictions, axis=-1), average='macro')\n",
    "cv_f1s = f1_score(y_val, np.argmax(predictions, axis=-1), average='macro')\n",
    "cv_score = roc_auc_score(y_val, predictions ,multi_class='ovr')\n",
    "print('roc-auc score: ',cv_score)\n",
    "print('f1: ',cv_f1s)\n",
    "print('precision: ',cv_pre)\n",
    "print('recall: ',cv_rec)\n",
    "print('accuracy: ',cv_ac)\n",
    "print()"
   ]
  },
  {
   "cell_type": "code",
   "execution_count": 16,
   "metadata": {
    "colab": {
     "base_uri": "https://localhost:8080/"
    },
    "executionInfo": {
     "elapsed": 43678,
     "status": "ok",
     "timestamp": 1634423065272,
     "user": {
      "displayName": "Hind Al-merekhi",
      "photoUrl": "https://lh3.googleusercontent.com/a-/AOh14GjbgXvVipF4Gfl2P4GXBOODjteaVq2xRgus_ZeRnw=s64",
      "userId": "01236544581272186025"
     },
     "user_tz": -180
    },
    "id": "Wkof0UC2kEnF",
    "outputId": "adf8d73a-4bcf-4713-8acd-6b78f92065df"
   },
   "outputs": [
    {
     "name": "stdout",
     "output_type": "stream",
     "text": [
      "                precision    recall  f1-score   support\n",
      "\n",
      "  highly_toxic       0.78      0.70      0.74        67\n",
      "slightly_toxic       0.62      0.76      0.68       119\n",
      "     non_toxic       0.98      0.95      0.96       822\n",
      "\n",
      "      accuracy                           0.91      1008\n",
      "     macro avg       0.79      0.80      0.80      1008\n",
      "  weighted avg       0.92      0.91      0.92      1008\n",
      "\n",
      "\n",
      "[[ 47  18   2]\n",
      " [ 11  90  18]\n",
      " [  2  37 783]]\n",
      "\n",
      "roc-auc score:  0.9629350532027287\n",
      "f1:  0.7952226566084835\n",
      "precision:  0.7930387960855604\n",
      "recall:  0.8034499342824613\n",
      "accuracy:  0.9126984126984127\n",
      "\n"
     ]
    }
   ],
   "source": [
    "predictions = learner.predict(val_data=(test))\n",
    "print(classification_report(y_test, np.argmax(predictions, axis=-1),target_names=categories))\n",
    "print()\n",
    "print(confusion_matrix(y_test, np.argmax(predictions, axis=-1)))\n",
    "print()\n",
    "cv_ac = accuracy_score(y_test, np.argmax(predictions, axis=-1))\n",
    "cv_pre = precision_score(y_test, np.argmax(predictions, axis=-1), average='macro')\n",
    "cv_rec = recall_score(y_test, np.argmax(predictions, axis=-1), average='macro')\n",
    "cv_f1s = f1_score(y_test, np.argmax(predictions, axis=-1), average='macro')\n",
    "cv_score = roc_auc_score(y_test, predictions ,multi_class='ovr')\n",
    "print('roc-auc score: ',cv_score)\n",
    "print('f1: ',cv_f1s)\n",
    "print('precision: ',cv_pre)\n",
    "print('recall: ',cv_rec)\n",
    "print('accuracy: ',cv_ac)\n",
    "print()"
   ]
  },
  {
   "cell_type": "code",
   "execution_count": 17,
   "metadata": {
    "executionInfo": {
     "elapsed": 611,
     "status": "ok",
     "timestamp": 1634423065874,
     "user": {
      "displayName": "Hind Al-merekhi",
      "photoUrl": "https://lh3.googleusercontent.com/a-/AOh14GjbgXvVipF4Gfl2P4GXBOODjteaVq2xRgus_ZeRnw=s64",
      "userId": "01236544581272186025"
     },
     "user_tz": -180
    },
    "id": "kp1iDJVaaTR_"
   },
   "outputs": [],
   "source": [
    "p.save(mod_dir+'pytorchmodel')"
   ]
  },
  {
   "cell_type": "markdown",
   "metadata": {
    "id": "BiSWHYvzPTC8"
   },
   "source": [
    "# Convert model to ONNX"
   ]
  },
  {
   "cell_type": "code",
   "execution_count": 18,
   "metadata": {
    "executionInfo": {
     "elapsed": 178403,
     "status": "ok",
     "timestamp": 1634423920661,
     "user": {
      "displayName": "Hind Al-merekhi",
      "photoUrl": "https://lh3.googleusercontent.com/a-/AOh14GjbgXvVipF4Gfl2P4GXBOODjteaVq2xRgus_ZeRnw=s64",
      "userId": "01236544581272186025"
     },
     "user_tz": -180
    },
    "id": "tpkl2OQRPXkv"
   },
   "outputs": [],
   "source": [
    "# Quantization Using PyTorch\n",
    "\n",
    "# load the predictor, model, and tokenizer\n",
    "from transformers import *\n",
    "import ktrain\n",
    "predictor = ktrain.load_predictor(mod_dir+'pytorchmodel')\n",
    "model_pt = AutoModelForSequenceClassification.from_pretrained(mod_dir+'pytorchmodel', from_tf=True)\n",
    "tokenizer = predictor.preproc.get_tokenizer() # or use AutoTokenizer.from_pretrained(predictor.preproc.model_name)\n",
    "maxlen = predictor.preproc.maxlen\n",
    "device = 'cpu'\n",
    "class_names = predictor.preproc.get_classes()\n",
    "\n",
    "# quantize model (INT8 quantization)\n",
    "import torch\n",
    "model_pt_quantized = torch.quantization.quantize_dynamic(\n",
    "    model_pt.to(device), {torch.nn.Linear}, dtype=torch.qint8)\n",
    "\n",
    "# make quantized predictions (x_test is a list of strings representing documents)\n",
    "preds = []\n",
    "for doc in x_test:\n",
    "    model_inputs = tokenizer(doc, return_tensors=\"pt\", max_length=maxlen, truncation=True)\n",
    "    model_inputs_on_device = { arg_name: tensor.to(device) \n",
    "                              for arg_name, tensor in model_inputs.items()}\n",
    "    pred = model_pt_quantized(**model_inputs_on_device)\n",
    "    preds.append(class_names[ np.argmax( np.squeeze( pred[0].cpu().detach().numpy() ) ) ]) "
   ]
  },
  {
   "cell_type": "code",
   "execution_count": 21,
   "metadata": {
    "colab": {
     "base_uri": "https://localhost:8080/"
    },
    "executionInfo": {
     "elapsed": 32299,
     "status": "ok",
     "timestamp": 1634424326043,
     "user": {
      "displayName": "Hind Al-merekhi",
      "photoUrl": "https://lh3.googleusercontent.com/a-/AOh14GjbgXvVipF4Gfl2P4GXBOODjteaVq2xRgus_ZeRnw=s64",
      "userId": "01236544581272186025"
     },
     "user_tz": -180
    },
    "id": "N7iUkl7hQgKi",
    "outputId": "cccc9478-8462-48a0-f33b-559d116bf829"
   },
   "outputs": [
    {
     "name": "stdout",
     "output_type": "stream",
     "text": [
      "ONNX opset version set to: 11\n",
      "Loading pipeline (model: C:\\Users\\Hind\\Desktop\\GitHub code/Models/pytorchmodel, tokenizer: bert-base-uncased)\n",
      "Creating folder C:\\Users\\Hind\\Desktop\\GitHub code\\Models\\pytorchmodel_onnx\n",
      "Using framework PyTorch: 1.8.0a0+37c1f4a\n",
      "Found input input_ids with shape: {0: 'batch', 1: 'sequence'}\n",
      "Found input token_type_ids with shape: {0: 'batch', 1: 'sequence'}\n",
      "Found input attention_mask with shape: {0: 'batch', 1: 'sequence'}\n",
      "Found output output_0 with shape: {0: 'batch'}\n",
      "Ensuring inputs are in correct order\n",
      "position_ids is not present in the generated input list.\n",
      "Generated inputs order: ['input_ids', 'attention_mask', 'token_type_ids']\n",
      "Optimized model has been written at C:\\Users\\Hind\\Desktop\\GitHub code\\Models\\pytorchmodel_onnx\\model-optimized.onnx: ✔\n",
      "/!\\ Optimized model contains hardware specific operators which might not be portable. /!\\\n"
     ]
    },
    {
     "name": "stderr",
     "output_type": "stream",
     "text": [
      "WARNING:root:onnxruntime.quantization.quantize is deprecated.\n",
      "         Please use quantize_static for static quantization, quantize_dynamic for dynamic quantization.\n"
     ]
    },
    {
     "name": "stdout",
     "output_type": "stream",
     "text": [
      "As of onnxruntime 1.4.0, models larger than 2GB will fail to quantize due to protobuf constraint.\n",
      "This limitation will be removed in the next release of onnxruntime.\n",
      "Quantized model has been written at C:\\Users\\Hind\\Desktop\\GitHub code\\Models\\pytorchmodel_onnx\\model-optimized-quantized.onnx: ✔\n"
     ]
    }
   ],
   "source": [
    "# Converting to ONNX (from PyTorch-converted model)\n",
    "\n",
    "\n",
    "# set maxlen, class_names, and tokenizer (use settings employed when training the model - see above)\n",
    "model_name = 'bert-base-uncased'\n",
    "maxlen = 512\n",
    "class_names = [\"highly_toxic\",\"slightly_toxic\",\"non_toxic\"]\n",
    "from transformers import AutoTokenizer\n",
    "tokenizer = AutoTokenizer.from_pretrained(model_name)\n",
    "\n",
    "\n",
    "# imports\n",
    "import numpy as np\n",
    "from transformers.convert_graph_to_onnx import convert, optimize, quantize\n",
    "from transformers import AutoModelForSequenceClassification\n",
    "from pathlib import Path\n",
    "\n",
    "# paths\n",
    "predictor_path = mod_dir+'pytorchmodel'\n",
    "pt_path = mod_dir+'pytorchmodel'\n",
    "pt_onnx_path = pt_path +'_onnx/model.onnx'\n",
    "\n",
    "# convert to ONNX\n",
    "AutoModelForSequenceClassification.from_pretrained(predictor_path, \n",
    "                                                   from_tf=True).save_pretrained(pt_path)\n",
    "convert(framework='pt', model=pt_path,output=Path(pt_onnx_path), opset=11, \n",
    "        tokenizer=model_name, pipeline_name='text-classification')\n",
    "pt_onnx_quantized_path = quantize(optimize(Path(pt_onnx_path)))\n",
    "\n",
    "# create ONNX session\n",
    "def create_onnx_session(onnx_model_path, provider='CPUExecutionProvider'):\n",
    "    \"\"\"\n",
    "    Creates ONNX inference session from provided onnx_model_path\n",
    "    \"\"\"\n",
    "\n",
    "    from onnxruntime import GraphOptimizationLevel, InferenceSession, SessionOptions, get_all_providers\n",
    "    assert provider in get_all_providers(), f\"provider {provider} not found, {get_all_providers()}\"\n",
    "\n",
    "    # Few properties that might have an impact on performances (provided by MS)\n",
    "    options = SessionOptions()\n",
    "    options.intra_op_num_threads = 0\n",
    "    options.graph_optimization_level = GraphOptimizationLevel.ORT_ENABLE_ALL\n",
    "\n",
    "    # Load the model as a graph and prepare the CPU backend \n",
    "    session = InferenceSession(onnx_model_path, options, providers=[provider])\n",
    "    session.disable_fallback()\n",
    "    return session\n",
    "sess = create_onnx_session(pt_onnx_quantized_path.as_posix())"
   ]
  }
 ],
 "metadata": {
  "accelerator": "GPU",
  "colab": {
   "collapsed_sections": [
    "8yCugTKvOGDH"
   ],
   "machine_shape": "hm",
   "name": "myData-distilbert.ipynb",
   "provenance": []
  },
  "kernelspec": {
   "display_name": "tf-gpu",
   "language": "python",
   "name": "tf-gpu"
  },
  "language_info": {
   "codemirror_mode": {
    "name": "ipython",
    "version": 3
   },
   "file_extension": ".py",
   "mimetype": "text/x-python",
   "name": "python",
   "nbconvert_exporter": "python",
   "pygments_lexer": "ipython3",
   "version": "3.8.8"
  },
  "widgets": {
   "application/vnd.jupyter.widget-state+json": {
    "105ca3cea003438f95fbfd8dfb04fd30": {
     "model_module": "@jupyter-widgets/controls",
     "model_module_version": "1.5.0",
     "model_name": "FloatProgressModel",
     "state": {
      "_dom_classes": [],
      "_model_module": "@jupyter-widgets/controls",
      "_model_module_version": "1.5.0",
      "_model_name": "FloatProgressModel",
      "_view_count": null,
      "_view_module": "@jupyter-widgets/controls",
      "_view_module_version": "1.5.0",
      "_view_name": "ProgressView",
      "bar_style": "success",
      "description": "",
      "description_tooltip": null,
      "layout": "IPY_MODEL_a735b539ce3741b2b05b5e41a1031876",
      "max": 536063208,
      "min": 0,
      "orientation": "horizontal",
      "style": "IPY_MODEL_cc68427f068b40188d73db18c8091cb7",
      "value": 536063208
     }
    },
    "109c72f987904c4ebd9e2c419e3807a8": {
     "model_module": "@jupyter-widgets/base",
     "model_module_version": "1.2.0",
     "model_name": "LayoutModel",
     "state": {
      "_model_module": "@jupyter-widgets/base",
      "_model_module_version": "1.2.0",
      "_model_name": "LayoutModel",
      "_view_count": null,
      "_view_module": "@jupyter-widgets/base",
      "_view_module_version": "1.2.0",
      "_view_name": "LayoutView",
      "align_content": null,
      "align_items": null,
      "align_self": null,
      "border": null,
      "bottom": null,
      "display": null,
      "flex": null,
      "flex_flow": null,
      "grid_area": null,
      "grid_auto_columns": null,
      "grid_auto_flow": null,
      "grid_auto_rows": null,
      "grid_column": null,
      "grid_gap": null,
      "grid_row": null,
      "grid_template_areas": null,
      "grid_template_columns": null,
      "grid_template_rows": null,
      "height": null,
      "justify_content": null,
      "justify_items": null,
      "left": null,
      "margin": null,
      "max_height": null,
      "max_width": null,
      "min_height": null,
      "min_width": null,
      "object_fit": null,
      "object_position": null,
      "order": null,
      "overflow": null,
      "overflow_x": null,
      "overflow_y": null,
      "padding": null,
      "right": null,
      "top": null,
      "visibility": null,
      "width": null
     }
    },
    "11388a96ae774fa7b99c35a9de83ae7a": {
     "model_module": "@jupyter-widgets/controls",
     "model_module_version": "1.5.0",
     "model_name": "HTMLModel",
     "state": {
      "_dom_classes": [],
      "_model_module": "@jupyter-widgets/controls",
      "_model_module_version": "1.5.0",
      "_model_name": "HTMLModel",
      "_view_count": null,
      "_view_module": "@jupyter-widgets/controls",
      "_view_module_version": "1.5.0",
      "_view_name": "HTMLView",
      "description": "",
      "description_tooltip": null,
      "layout": "IPY_MODEL_f9067414a312443fb1b6ecad755ac608",
      "placeholder": "​",
      "style": "IPY_MODEL_bf30fdf371a64a228e31afd23b08c19d",
      "value": "Downloading: 100%"
     }
    },
    "1f33ffd18ac345b4aeb996603607d3a6": {
     "model_module": "@jupyter-widgets/controls",
     "model_module_version": "1.5.0",
     "model_name": "HTMLModel",
     "state": {
      "_dom_classes": [],
      "_model_module": "@jupyter-widgets/controls",
      "_model_module_version": "1.5.0",
      "_model_name": "HTMLModel",
      "_view_count": null,
      "_view_module": "@jupyter-widgets/controls",
      "_view_module_version": "1.5.0",
      "_view_name": "HTMLView",
      "description": "",
      "description_tooltip": null,
      "layout": "IPY_MODEL_7af56538987247739eb53b051f803e90",
      "placeholder": "​",
      "style": "IPY_MODEL_f05a0b38e3554061a7120548db1a7362",
      "value": "Downloading: 100%"
     }
    },
    "323a928567a14ea7a15b2af920d198ee": {
     "model_module": "@jupyter-widgets/controls",
     "model_module_version": "1.5.0",
     "model_name": "ProgressStyleModel",
     "state": {
      "_model_module": "@jupyter-widgets/controls",
      "_model_module_version": "1.5.0",
      "_model_name": "ProgressStyleModel",
      "_view_count": null,
      "_view_module": "@jupyter-widgets/base",
      "_view_module_version": "1.2.0",
      "_view_name": "StyleView",
      "bar_color": null,
      "description_width": ""
     }
    },
    "341bba1687d74bca9e45d16e3a0de821": {
     "model_module": "@jupyter-widgets/base",
     "model_module_version": "1.2.0",
     "model_name": "LayoutModel",
     "state": {
      "_model_module": "@jupyter-widgets/base",
      "_model_module_version": "1.2.0",
      "_model_name": "LayoutModel",
      "_view_count": null,
      "_view_module": "@jupyter-widgets/base",
      "_view_module_version": "1.2.0",
      "_view_name": "LayoutView",
      "align_content": null,
      "align_items": null,
      "align_self": null,
      "border": null,
      "bottom": null,
      "display": null,
      "flex": null,
      "flex_flow": null,
      "grid_area": null,
      "grid_auto_columns": null,
      "grid_auto_flow": null,
      "grid_auto_rows": null,
      "grid_column": null,
      "grid_gap": null,
      "grid_row": null,
      "grid_template_areas": null,
      "grid_template_columns": null,
      "grid_template_rows": null,
      "height": null,
      "justify_content": null,
      "justify_items": null,
      "left": null,
      "margin": null,
      "max_height": null,
      "max_width": null,
      "min_height": null,
      "min_width": null,
      "object_fit": null,
      "object_position": null,
      "order": null,
      "overflow": null,
      "overflow_x": null,
      "overflow_y": null,
      "padding": null,
      "right": null,
      "top": null,
      "visibility": null,
      "width": null
     }
    },
    "3e8886a530f34a6da9a9d0273bee5241": {
     "model_module": "@jupyter-widgets/base",
     "model_module_version": "1.2.0",
     "model_name": "LayoutModel",
     "state": {
      "_model_module": "@jupyter-widgets/base",
      "_model_module_version": "1.2.0",
      "_model_name": "LayoutModel",
      "_view_count": null,
      "_view_module": "@jupyter-widgets/base",
      "_view_module_version": "1.2.0",
      "_view_name": "LayoutView",
      "align_content": null,
      "align_items": null,
      "align_self": null,
      "border": null,
      "bottom": null,
      "display": null,
      "flex": null,
      "flex_flow": null,
      "grid_area": null,
      "grid_auto_columns": null,
      "grid_auto_flow": null,
      "grid_auto_rows": null,
      "grid_column": null,
      "grid_gap": null,
      "grid_row": null,
      "grid_template_areas": null,
      "grid_template_columns": null,
      "grid_template_rows": null,
      "height": null,
      "justify_content": null,
      "justify_items": null,
      "left": null,
      "margin": null,
      "max_height": null,
      "max_width": null,
      "min_height": null,
      "min_width": null,
      "object_fit": null,
      "object_position": null,
      "order": null,
      "overflow": null,
      "overflow_x": null,
      "overflow_y": null,
      "padding": null,
      "right": null,
      "top": null,
      "visibility": null,
      "width": null
     }
    },
    "467ad5aa144b47f9bac4ac7c049289de": {
     "model_module": "@jupyter-widgets/base",
     "model_module_version": "1.2.0",
     "model_name": "LayoutModel",
     "state": {
      "_model_module": "@jupyter-widgets/base",
      "_model_module_version": "1.2.0",
      "_model_name": "LayoutModel",
      "_view_count": null,
      "_view_module": "@jupyter-widgets/base",
      "_view_module_version": "1.2.0",
      "_view_name": "LayoutView",
      "align_content": null,
      "align_items": null,
      "align_self": null,
      "border": null,
      "bottom": null,
      "display": null,
      "flex": null,
      "flex_flow": null,
      "grid_area": null,
      "grid_auto_columns": null,
      "grid_auto_flow": null,
      "grid_auto_rows": null,
      "grid_column": null,
      "grid_gap": null,
      "grid_row": null,
      "grid_template_areas": null,
      "grid_template_columns": null,
      "grid_template_rows": null,
      "height": null,
      "justify_content": null,
      "justify_items": null,
      "left": null,
      "margin": null,
      "max_height": null,
      "max_width": null,
      "min_height": null,
      "min_width": null,
      "object_fit": null,
      "object_position": null,
      "order": null,
      "overflow": null,
      "overflow_x": null,
      "overflow_y": null,
      "padding": null,
      "right": null,
      "top": null,
      "visibility": null,
      "width": null
     }
    },
    "4b7abcf726f848f7b2cecdefe6249aaa": {
     "model_module": "@jupyter-widgets/controls",
     "model_module_version": "1.5.0",
     "model_name": "HBoxModel",
     "state": {
      "_dom_classes": [],
      "_model_module": "@jupyter-widgets/controls",
      "_model_module_version": "1.5.0",
      "_model_name": "HBoxModel",
      "_view_count": null,
      "_view_module": "@jupyter-widgets/controls",
      "_view_module_version": "1.5.0",
      "_view_name": "HBoxView",
      "box_style": "",
      "children": [
       "IPY_MODEL_11388a96ae774fa7b99c35a9de83ae7a",
       "IPY_MODEL_af1e67f8bf8144219174082c02214099",
       "IPY_MODEL_cf2ec10e47ce419dbef5c742ab3c4dfe"
      ],
      "layout": "IPY_MODEL_cc43699730e544b683e38ec7c29636b9"
     }
    },
    "549eba5340db4422a3d5f1f06c3689c4": {
     "model_module": "@jupyter-widgets/base",
     "model_module_version": "1.2.0",
     "model_name": "LayoutModel",
     "state": {
      "_model_module": "@jupyter-widgets/base",
      "_model_module_version": "1.2.0",
      "_model_name": "LayoutModel",
      "_view_count": null,
      "_view_module": "@jupyter-widgets/base",
      "_view_module_version": "1.2.0",
      "_view_name": "LayoutView",
      "align_content": null,
      "align_items": null,
      "align_self": null,
      "border": null,
      "bottom": null,
      "display": null,
      "flex": null,
      "flex_flow": null,
      "grid_area": null,
      "grid_auto_columns": null,
      "grid_auto_flow": null,
      "grid_auto_rows": null,
      "grid_column": null,
      "grid_gap": null,
      "grid_row": null,
      "grid_template_areas": null,
      "grid_template_columns": null,
      "grid_template_rows": null,
      "height": null,
      "justify_content": null,
      "justify_items": null,
      "left": null,
      "margin": null,
      "max_height": null,
      "max_width": null,
      "min_height": null,
      "min_width": null,
      "object_fit": null,
      "object_position": null,
      "order": null,
      "overflow": null,
      "overflow_x": null,
      "overflow_y": null,
      "padding": null,
      "right": null,
      "top": null,
      "visibility": null,
      "width": null
     }
    },
    "59cd5d5bcad44201a244136c03af6817": {
     "model_module": "@jupyter-widgets/controls",
     "model_module_version": "1.5.0",
     "model_name": "HTMLModel",
     "state": {
      "_dom_classes": [],
      "_model_module": "@jupyter-widgets/controls",
      "_model_module_version": "1.5.0",
      "_model_name": "HTMLModel",
      "_view_count": null,
      "_view_module": "@jupyter-widgets/controls",
      "_view_module_version": "1.5.0",
      "_view_name": "HTMLView",
      "description": "",
      "description_tooltip": null,
      "layout": "IPY_MODEL_3e8886a530f34a6da9a9d0273bee5241",
      "placeholder": "​",
      "style": "IPY_MODEL_81eaded03fb3472a83c86296537a4a8d",
      "value": "Downloading: 100%"
     }
    },
    "5a55c521b33f453c83200b50f9b22fc0": {
     "model_module": "@jupyter-widgets/base",
     "model_module_version": "1.2.0",
     "model_name": "LayoutModel",
     "state": {
      "_model_module": "@jupyter-widgets/base",
      "_model_module_version": "1.2.0",
      "_model_name": "LayoutModel",
      "_view_count": null,
      "_view_module": "@jupyter-widgets/base",
      "_view_module_version": "1.2.0",
      "_view_name": "LayoutView",
      "align_content": null,
      "align_items": null,
      "align_self": null,
      "border": null,
      "bottom": null,
      "display": null,
      "flex": null,
      "flex_flow": null,
      "grid_area": null,
      "grid_auto_columns": null,
      "grid_auto_flow": null,
      "grid_auto_rows": null,
      "grid_column": null,
      "grid_gap": null,
      "grid_row": null,
      "grid_template_areas": null,
      "grid_template_columns": null,
      "grid_template_rows": null,
      "height": null,
      "justify_content": null,
      "justify_items": null,
      "left": null,
      "margin": null,
      "max_height": null,
      "max_width": null,
      "min_height": null,
      "min_width": null,
      "object_fit": null,
      "object_position": null,
      "order": null,
      "overflow": null,
      "overflow_x": null,
      "overflow_y": null,
      "padding": null,
      "right": null,
      "top": null,
      "visibility": null,
      "width": null
     }
    },
    "5df140a2ed6f4b89a1f09459c4a1e3b8": {
     "model_module": "@jupyter-widgets/base",
     "model_module_version": "1.2.0",
     "model_name": "LayoutModel",
     "state": {
      "_model_module": "@jupyter-widgets/base",
      "_model_module_version": "1.2.0",
      "_model_name": "LayoutModel",
      "_view_count": null,
      "_view_module": "@jupyter-widgets/base",
      "_view_module_version": "1.2.0",
      "_view_name": "LayoutView",
      "align_content": null,
      "align_items": null,
      "align_self": null,
      "border": null,
      "bottom": null,
      "display": null,
      "flex": null,
      "flex_flow": null,
      "grid_area": null,
      "grid_auto_columns": null,
      "grid_auto_flow": null,
      "grid_auto_rows": null,
      "grid_column": null,
      "grid_gap": null,
      "grid_row": null,
      "grid_template_areas": null,
      "grid_template_columns": null,
      "grid_template_rows": null,
      "height": null,
      "justify_content": null,
      "justify_items": null,
      "left": null,
      "margin": null,
      "max_height": null,
      "max_width": null,
      "min_height": null,
      "min_width": null,
      "object_fit": null,
      "object_position": null,
      "order": null,
      "overflow": null,
      "overflow_x": null,
      "overflow_y": null,
      "padding": null,
      "right": null,
      "top": null,
      "visibility": null,
      "width": null
     }
    },
    "6239399404f04d2bad7f6fdada0ca2ea": {
     "model_module": "@jupyter-widgets/controls",
     "model_module_version": "1.5.0",
     "model_name": "DescriptionStyleModel",
     "state": {
      "_model_module": "@jupyter-widgets/controls",
      "_model_module_version": "1.5.0",
      "_model_name": "DescriptionStyleModel",
      "_view_count": null,
      "_view_module": "@jupyter-widgets/base",
      "_view_module_version": "1.2.0",
      "_view_name": "StyleView",
      "description_width": ""
     }
    },
    "6cbcc68790c9464c9ac39a35c0e3693f": {
     "model_module": "@jupyter-widgets/controls",
     "model_module_version": "1.5.0",
     "model_name": "FloatProgressModel",
     "state": {
      "_dom_classes": [],
      "_model_module": "@jupyter-widgets/controls",
      "_model_module_version": "1.5.0",
      "_model_name": "FloatProgressModel",
      "_view_count": null,
      "_view_module": "@jupyter-widgets/controls",
      "_view_module_version": "1.5.0",
      "_view_name": "ProgressView",
      "bar_style": "success",
      "description": "",
      "description_tooltip": null,
      "layout": "IPY_MODEL_ddf13d2fb3cd4904b7277cf0c5533b53",
      "max": 231508,
      "min": 0,
      "orientation": "horizontal",
      "style": "IPY_MODEL_c793a6dc441148da93d01440bce26367",
      "value": 231508
     }
    },
    "70077a3fc5ba450b90a91027eb04bcd3": {
     "model_module": "@jupyter-widgets/base",
     "model_module_version": "1.2.0",
     "model_name": "LayoutModel",
     "state": {
      "_model_module": "@jupyter-widgets/base",
      "_model_module_version": "1.2.0",
      "_model_name": "LayoutModel",
      "_view_count": null,
      "_view_module": "@jupyter-widgets/base",
      "_view_module_version": "1.2.0",
      "_view_name": "LayoutView",
      "align_content": null,
      "align_items": null,
      "align_self": null,
      "border": null,
      "bottom": null,
      "display": null,
      "flex": null,
      "flex_flow": null,
      "grid_area": null,
      "grid_auto_columns": null,
      "grid_auto_flow": null,
      "grid_auto_rows": null,
      "grid_column": null,
      "grid_gap": null,
      "grid_row": null,
      "grid_template_areas": null,
      "grid_template_columns": null,
      "grid_template_rows": null,
      "height": null,
      "justify_content": null,
      "justify_items": null,
      "left": null,
      "margin": null,
      "max_height": null,
      "max_width": null,
      "min_height": null,
      "min_width": null,
      "object_fit": null,
      "object_position": null,
      "order": null,
      "overflow": null,
      "overflow_x": null,
      "overflow_y": null,
      "padding": null,
      "right": null,
      "top": null,
      "visibility": null,
      "width": null
     }
    },
    "73f5eca9959d4a31b048ecb524145e49": {
     "model_module": "@jupyter-widgets/controls",
     "model_module_version": "1.5.0",
     "model_name": "DescriptionStyleModel",
     "state": {
      "_model_module": "@jupyter-widgets/controls",
      "_model_module_version": "1.5.0",
      "_model_name": "DescriptionStyleModel",
      "_view_count": null,
      "_view_module": "@jupyter-widgets/base",
      "_view_module_version": "1.2.0",
      "_view_name": "StyleView",
      "description_width": ""
     }
    },
    "7a8974d7d1bf456888e521f7ed4769eb": {
     "model_module": "@jupyter-widgets/base",
     "model_module_version": "1.2.0",
     "model_name": "LayoutModel",
     "state": {
      "_model_module": "@jupyter-widgets/base",
      "_model_module_version": "1.2.0",
      "_model_name": "LayoutModel",
      "_view_count": null,
      "_view_module": "@jupyter-widgets/base",
      "_view_module_version": "1.2.0",
      "_view_name": "LayoutView",
      "align_content": null,
      "align_items": null,
      "align_self": null,
      "border": null,
      "bottom": null,
      "display": null,
      "flex": null,
      "flex_flow": null,
      "grid_area": null,
      "grid_auto_columns": null,
      "grid_auto_flow": null,
      "grid_auto_rows": null,
      "grid_column": null,
      "grid_gap": null,
      "grid_row": null,
      "grid_template_areas": null,
      "grid_template_columns": null,
      "grid_template_rows": null,
      "height": null,
      "justify_content": null,
      "justify_items": null,
      "left": null,
      "margin": null,
      "max_height": null,
      "max_width": null,
      "min_height": null,
      "min_width": null,
      "object_fit": null,
      "object_position": null,
      "order": null,
      "overflow": null,
      "overflow_x": null,
      "overflow_y": null,
      "padding": null,
      "right": null,
      "top": null,
      "visibility": null,
      "width": null
     }
    },
    "7af56538987247739eb53b051f803e90": {
     "model_module": "@jupyter-widgets/base",
     "model_module_version": "1.2.0",
     "model_name": "LayoutModel",
     "state": {
      "_model_module": "@jupyter-widgets/base",
      "_model_module_version": "1.2.0",
      "_model_name": "LayoutModel",
      "_view_count": null,
      "_view_module": "@jupyter-widgets/base",
      "_view_module_version": "1.2.0",
      "_view_name": "LayoutView",
      "align_content": null,
      "align_items": null,
      "align_self": null,
      "border": null,
      "bottom": null,
      "display": null,
      "flex": null,
      "flex_flow": null,
      "grid_area": null,
      "grid_auto_columns": null,
      "grid_auto_flow": null,
      "grid_auto_rows": null,
      "grid_column": null,
      "grid_gap": null,
      "grid_row": null,
      "grid_template_areas": null,
      "grid_template_columns": null,
      "grid_template_rows": null,
      "height": null,
      "justify_content": null,
      "justify_items": null,
      "left": null,
      "margin": null,
      "max_height": null,
      "max_width": null,
      "min_height": null,
      "min_width": null,
      "object_fit": null,
      "object_position": null,
      "order": null,
      "overflow": null,
      "overflow_x": null,
      "overflow_y": null,
      "padding": null,
      "right": null,
      "top": null,
      "visibility": null,
      "width": null
     }
    },
    "81eaded03fb3472a83c86296537a4a8d": {
     "model_module": "@jupyter-widgets/controls",
     "model_module_version": "1.5.0",
     "model_name": "DescriptionStyleModel",
     "state": {
      "_model_module": "@jupyter-widgets/controls",
      "_model_module_version": "1.5.0",
      "_model_name": "DescriptionStyleModel",
      "_view_count": null,
      "_view_module": "@jupyter-widgets/base",
      "_view_module_version": "1.2.0",
      "_view_name": "StyleView",
      "description_width": ""
     }
    },
    "8500f15cee81426991087d2b026ec2cf": {
     "model_module": "@jupyter-widgets/controls",
     "model_module_version": "1.5.0",
     "model_name": "ProgressStyleModel",
     "state": {
      "_model_module": "@jupyter-widgets/controls",
      "_model_module_version": "1.5.0",
      "_model_name": "ProgressStyleModel",
      "_view_count": null,
      "_view_module": "@jupyter-widgets/base",
      "_view_module_version": "1.2.0",
      "_view_name": "StyleView",
      "bar_color": null,
      "description_width": ""
     }
    },
    "8a5b561d09054448b56c6154f485ed89": {
     "model_module": "@jupyter-widgets/controls",
     "model_module_version": "1.5.0",
     "model_name": "HBoxModel",
     "state": {
      "_dom_classes": [],
      "_model_module": "@jupyter-widgets/controls",
      "_model_module_version": "1.5.0",
      "_model_name": "HBoxModel",
      "_view_count": null,
      "_view_module": "@jupyter-widgets/controls",
      "_view_module_version": "1.5.0",
      "_view_name": "HBoxView",
      "box_style": "",
      "children": [
       "IPY_MODEL_da009d89130b41d394ff07c60540bc2e",
       "IPY_MODEL_6cbcc68790c9464c9ac39a35c0e3693f",
       "IPY_MODEL_dbde3f22194b4f7b98b45149f41c1793"
      ],
      "layout": "IPY_MODEL_95049fc3bd8d4a228a0739c5c38b4787"
     }
    },
    "95049fc3bd8d4a228a0739c5c38b4787": {
     "model_module": "@jupyter-widgets/base",
     "model_module_version": "1.2.0",
     "model_name": "LayoutModel",
     "state": {
      "_model_module": "@jupyter-widgets/base",
      "_model_module_version": "1.2.0",
      "_model_name": "LayoutModel",
      "_view_count": null,
      "_view_module": "@jupyter-widgets/base",
      "_view_module_version": "1.2.0",
      "_view_name": "LayoutView",
      "align_content": null,
      "align_items": null,
      "align_self": null,
      "border": null,
      "bottom": null,
      "display": null,
      "flex": null,
      "flex_flow": null,
      "grid_area": null,
      "grid_auto_columns": null,
      "grid_auto_flow": null,
      "grid_auto_rows": null,
      "grid_column": null,
      "grid_gap": null,
      "grid_row": null,
      "grid_template_areas": null,
      "grid_template_columns": null,
      "grid_template_rows": null,
      "height": null,
      "justify_content": null,
      "justify_items": null,
      "left": null,
      "margin": null,
      "max_height": null,
      "max_width": null,
      "min_height": null,
      "min_width": null,
      "object_fit": null,
      "object_position": null,
      "order": null,
      "overflow": null,
      "overflow_x": null,
      "overflow_y": null,
      "padding": null,
      "right": null,
      "top": null,
      "visibility": null,
      "width": null
     }
    },
    "958667658df1456db3eb0c9b06c75557": {
     "model_module": "@jupyter-widgets/controls",
     "model_module_version": "1.5.0",
     "model_name": "DescriptionStyleModel",
     "state": {
      "_model_module": "@jupyter-widgets/controls",
      "_model_module_version": "1.5.0",
      "_model_name": "DescriptionStyleModel",
      "_view_count": null,
      "_view_module": "@jupyter-widgets/base",
      "_view_module_version": "1.2.0",
      "_view_name": "StyleView",
      "description_width": ""
     }
    },
    "98d1f94b320c4d31b224c0cb74f1e5c6": {
     "model_module": "@jupyter-widgets/controls",
     "model_module_version": "1.5.0",
     "model_name": "DescriptionStyleModel",
     "state": {
      "_model_module": "@jupyter-widgets/controls",
      "_model_module_version": "1.5.0",
      "_model_name": "DescriptionStyleModel",
      "_view_count": null,
      "_view_module": "@jupyter-widgets/base",
      "_view_module_version": "1.2.0",
      "_view_name": "StyleView",
      "description_width": ""
     }
    },
    "9a46fa0e1b9449e08a371dd84d5d8f8e": {
     "model_module": "@jupyter-widgets/controls",
     "model_module_version": "1.5.0",
     "model_name": "DescriptionStyleModel",
     "state": {
      "_model_module": "@jupyter-widgets/controls",
      "_model_module_version": "1.5.0",
      "_model_name": "DescriptionStyleModel",
      "_view_count": null,
      "_view_module": "@jupyter-widgets/base",
      "_view_module_version": "1.2.0",
      "_view_name": "StyleView",
      "description_width": ""
     }
    },
    "a3739c80872d4991864562d24935f5b2": {
     "model_module": "@jupyter-widgets/controls",
     "model_module_version": "1.5.0",
     "model_name": "HBoxModel",
     "state": {
      "_dom_classes": [],
      "_model_module": "@jupyter-widgets/controls",
      "_model_module_version": "1.5.0",
      "_model_name": "HBoxModel",
      "_view_count": null,
      "_view_module": "@jupyter-widgets/controls",
      "_view_module_version": "1.5.0",
      "_view_name": "HBoxView",
      "box_style": "",
      "children": [
       "IPY_MODEL_1f33ffd18ac345b4aeb996603607d3a6",
       "IPY_MODEL_c2abf154642b43499c971b8ec3784b9a",
       "IPY_MODEL_a6f9f85cdac14102a10b4531b6899a3c"
      ],
      "layout": "IPY_MODEL_467ad5aa144b47f9bac4ac7c049289de"
     }
    },
    "a6f9f85cdac14102a10b4531b6899a3c": {
     "model_module": "@jupyter-widgets/controls",
     "model_module_version": "1.5.0",
     "model_name": "HTMLModel",
     "state": {
      "_dom_classes": [],
      "_model_module": "@jupyter-widgets/controls",
      "_model_module_version": "1.5.0",
      "_model_name": "HTMLModel",
      "_view_count": null,
      "_view_module": "@jupyter-widgets/controls",
      "_view_module_version": "1.5.0",
      "_view_name": "HTMLView",
      "description": "",
      "description_tooltip": null,
      "layout": "IPY_MODEL_5df140a2ed6f4b89a1f09459c4a1e3b8",
      "placeholder": "​",
      "style": "IPY_MODEL_73f5eca9959d4a31b048ecb524145e49",
      "value": " 466k/466k [00:00&lt;00:00, 1.35MB/s]"
     }
    },
    "a735b539ce3741b2b05b5e41a1031876": {
     "model_module": "@jupyter-widgets/base",
     "model_module_version": "1.2.0",
     "model_name": "LayoutModel",
     "state": {
      "_model_module": "@jupyter-widgets/base",
      "_model_module_version": "1.2.0",
      "_model_name": "LayoutModel",
      "_view_count": null,
      "_view_module": "@jupyter-widgets/base",
      "_view_module_version": "1.2.0",
      "_view_name": "LayoutView",
      "align_content": null,
      "align_items": null,
      "align_self": null,
      "border": null,
      "bottom": null,
      "display": null,
      "flex": null,
      "flex_flow": null,
      "grid_area": null,
      "grid_auto_columns": null,
      "grid_auto_flow": null,
      "grid_auto_rows": null,
      "grid_column": null,
      "grid_gap": null,
      "grid_row": null,
      "grid_template_areas": null,
      "grid_template_columns": null,
      "grid_template_rows": null,
      "height": null,
      "justify_content": null,
      "justify_items": null,
      "left": null,
      "margin": null,
      "max_height": null,
      "max_width": null,
      "min_height": null,
      "min_width": null,
      "object_fit": null,
      "object_position": null,
      "order": null,
      "overflow": null,
      "overflow_x": null,
      "overflow_y": null,
      "padding": null,
      "right": null,
      "top": null,
      "visibility": null,
      "width": null
     }
    },
    "a8bcc59a41874f38ada623554d3e3ae2": {
     "model_module": "@jupyter-widgets/controls",
     "model_module_version": "1.5.0",
     "model_name": "DescriptionStyleModel",
     "state": {
      "_model_module": "@jupyter-widgets/controls",
      "_model_module_version": "1.5.0",
      "_model_name": "DescriptionStyleModel",
      "_view_count": null,
      "_view_module": "@jupyter-widgets/base",
      "_view_module_version": "1.2.0",
      "_view_name": "StyleView",
      "description_width": ""
     }
    },
    "af1e67f8bf8144219174082c02214099": {
     "model_module": "@jupyter-widgets/controls",
     "model_module_version": "1.5.0",
     "model_name": "FloatProgressModel",
     "state": {
      "_dom_classes": [],
      "_model_module": "@jupyter-widgets/controls",
      "_model_module_version": "1.5.0",
      "_model_name": "FloatProgressModel",
      "_view_count": null,
      "_view_module": "@jupyter-widgets/controls",
      "_view_module_version": "1.5.0",
      "_view_name": "ProgressView",
      "bar_style": "success",
      "description": "",
      "description_tooltip": null,
      "layout": "IPY_MODEL_5a55c521b33f453c83200b50f9b22fc0",
      "max": 28,
      "min": 0,
      "orientation": "horizontal",
      "style": "IPY_MODEL_323a928567a14ea7a15b2af920d198ee",
      "value": 28
     }
    },
    "b302f5b324c845cab2a19a2755bd633a": {
     "model_module": "@jupyter-widgets/base",
     "model_module_version": "1.2.0",
     "model_name": "LayoutModel",
     "state": {
      "_model_module": "@jupyter-widgets/base",
      "_model_module_version": "1.2.0",
      "_model_name": "LayoutModel",
      "_view_count": null,
      "_view_module": "@jupyter-widgets/base",
      "_view_module_version": "1.2.0",
      "_view_name": "LayoutView",
      "align_content": null,
      "align_items": null,
      "align_self": null,
      "border": null,
      "bottom": null,
      "display": null,
      "flex": null,
      "flex_flow": null,
      "grid_area": null,
      "grid_auto_columns": null,
      "grid_auto_flow": null,
      "grid_auto_rows": null,
      "grid_column": null,
      "grid_gap": null,
      "grid_row": null,
      "grid_template_areas": null,
      "grid_template_columns": null,
      "grid_template_rows": null,
      "height": null,
      "justify_content": null,
      "justify_items": null,
      "left": null,
      "margin": null,
      "max_height": null,
      "max_width": null,
      "min_height": null,
      "min_width": null,
      "object_fit": null,
      "object_position": null,
      "order": null,
      "overflow": null,
      "overflow_x": null,
      "overflow_y": null,
      "padding": null,
      "right": null,
      "top": null,
      "visibility": null,
      "width": null
     }
    },
    "b7c9d10afabd4f448ba68b0f5f0cef50": {
     "model_module": "@jupyter-widgets/base",
     "model_module_version": "1.2.0",
     "model_name": "LayoutModel",
     "state": {
      "_model_module": "@jupyter-widgets/base",
      "_model_module_version": "1.2.0",
      "_model_name": "LayoutModel",
      "_view_count": null,
      "_view_module": "@jupyter-widgets/base",
      "_view_module_version": "1.2.0",
      "_view_name": "LayoutView",
      "align_content": null,
      "align_items": null,
      "align_self": null,
      "border": null,
      "bottom": null,
      "display": null,
      "flex": null,
      "flex_flow": null,
      "grid_area": null,
      "grid_auto_columns": null,
      "grid_auto_flow": null,
      "grid_auto_rows": null,
      "grid_column": null,
      "grid_gap": null,
      "grid_row": null,
      "grid_template_areas": null,
      "grid_template_columns": null,
      "grid_template_rows": null,
      "height": null,
      "justify_content": null,
      "justify_items": null,
      "left": null,
      "margin": null,
      "max_height": null,
      "max_width": null,
      "min_height": null,
      "min_width": null,
      "object_fit": null,
      "object_position": null,
      "order": null,
      "overflow": null,
      "overflow_x": null,
      "overflow_y": null,
      "padding": null,
      "right": null,
      "top": null,
      "visibility": null,
      "width": null
     }
    },
    "b90cc73d8ae444969041b8672a7a9f5d": {
     "model_module": "@jupyter-widgets/controls",
     "model_module_version": "1.5.0",
     "model_name": "HTMLModel",
     "state": {
      "_dom_classes": [],
      "_model_module": "@jupyter-widgets/controls",
      "_model_module_version": "1.5.0",
      "_model_name": "HTMLModel",
      "_view_count": null,
      "_view_module": "@jupyter-widgets/controls",
      "_view_module_version": "1.5.0",
      "_view_name": "HTMLView",
      "description": "",
      "description_tooltip": null,
      "layout": "IPY_MODEL_70077a3fc5ba450b90a91027eb04bcd3",
      "placeholder": "​",
      "style": "IPY_MODEL_958667658df1456db3eb0c9b06c75557",
      "value": " 570/570 [00:00&lt;00:00, 20.1kB/s]"
     }
    },
    "bf30fdf371a64a228e31afd23b08c19d": {
     "model_module": "@jupyter-widgets/controls",
     "model_module_version": "1.5.0",
     "model_name": "DescriptionStyleModel",
     "state": {
      "_model_module": "@jupyter-widgets/controls",
      "_model_module_version": "1.5.0",
      "_model_name": "DescriptionStyleModel",
      "_view_count": null,
      "_view_module": "@jupyter-widgets/base",
      "_view_module_version": "1.2.0",
      "_view_name": "StyleView",
      "description_width": ""
     }
    },
    "bf500539addd43c699a704cef9b25e43": {
     "model_module": "@jupyter-widgets/controls",
     "model_module_version": "1.5.0",
     "model_name": "HTMLModel",
     "state": {
      "_dom_classes": [],
      "_model_module": "@jupyter-widgets/controls",
      "_model_module_version": "1.5.0",
      "_model_name": "HTMLModel",
      "_view_count": null,
      "_view_module": "@jupyter-widgets/controls",
      "_view_module_version": "1.5.0",
      "_view_name": "HTMLView",
      "description": "",
      "description_tooltip": null,
      "layout": "IPY_MODEL_f1217df60af94d1b95a68b869df7405e",
      "placeholder": "​",
      "style": "IPY_MODEL_a8bcc59a41874f38ada623554d3e3ae2",
      "value": "Downloading: 100%"
     }
    },
    "c2abf154642b43499c971b8ec3784b9a": {
     "model_module": "@jupyter-widgets/controls",
     "model_module_version": "1.5.0",
     "model_name": "FloatProgressModel",
     "state": {
      "_dom_classes": [],
      "_model_module": "@jupyter-widgets/controls",
      "_model_module_version": "1.5.0",
      "_model_name": "FloatProgressModel",
      "_view_count": null,
      "_view_module": "@jupyter-widgets/controls",
      "_view_module_version": "1.5.0",
      "_view_name": "ProgressView",
      "bar_style": "success",
      "description": "",
      "description_tooltip": null,
      "layout": "IPY_MODEL_109c72f987904c4ebd9e2c419e3807a8",
      "max": 466062,
      "min": 0,
      "orientation": "horizontal",
      "style": "IPY_MODEL_8500f15cee81426991087d2b026ec2cf",
      "value": 466062
     }
    },
    "c5bfb97513724929a85ab1164e404942": {
     "model_module": "@jupyter-widgets/controls",
     "model_module_version": "1.5.0",
     "model_name": "ProgressStyleModel",
     "state": {
      "_model_module": "@jupyter-widgets/controls",
      "_model_module_version": "1.5.0",
      "_model_name": "ProgressStyleModel",
      "_view_count": null,
      "_view_module": "@jupyter-widgets/base",
      "_view_module_version": "1.2.0",
      "_view_name": "StyleView",
      "bar_color": null,
      "description_width": ""
     }
    },
    "c793a6dc441148da93d01440bce26367": {
     "model_module": "@jupyter-widgets/controls",
     "model_module_version": "1.5.0",
     "model_name": "ProgressStyleModel",
     "state": {
      "_model_module": "@jupyter-widgets/controls",
      "_model_module_version": "1.5.0",
      "_model_name": "ProgressStyleModel",
      "_view_count": null,
      "_view_module": "@jupyter-widgets/base",
      "_view_module_version": "1.2.0",
      "_view_name": "StyleView",
      "bar_color": null,
      "description_width": ""
     }
    },
    "cc43699730e544b683e38ec7c29636b9": {
     "model_module": "@jupyter-widgets/base",
     "model_module_version": "1.2.0",
     "model_name": "LayoutModel",
     "state": {
      "_model_module": "@jupyter-widgets/base",
      "_model_module_version": "1.2.0",
      "_model_name": "LayoutModel",
      "_view_count": null,
      "_view_module": "@jupyter-widgets/base",
      "_view_module_version": "1.2.0",
      "_view_name": "LayoutView",
      "align_content": null,
      "align_items": null,
      "align_self": null,
      "border": null,
      "bottom": null,
      "display": null,
      "flex": null,
      "flex_flow": null,
      "grid_area": null,
      "grid_auto_columns": null,
      "grid_auto_flow": null,
      "grid_auto_rows": null,
      "grid_column": null,
      "grid_gap": null,
      "grid_row": null,
      "grid_template_areas": null,
      "grid_template_columns": null,
      "grid_template_rows": null,
      "height": null,
      "justify_content": null,
      "justify_items": null,
      "left": null,
      "margin": null,
      "max_height": null,
      "max_width": null,
      "min_height": null,
      "min_width": null,
      "object_fit": null,
      "object_position": null,
      "order": null,
      "overflow": null,
      "overflow_x": null,
      "overflow_y": null,
      "padding": null,
      "right": null,
      "top": null,
      "visibility": null,
      "width": null
     }
    },
    "cc68427f068b40188d73db18c8091cb7": {
     "model_module": "@jupyter-widgets/controls",
     "model_module_version": "1.5.0",
     "model_name": "ProgressStyleModel",
     "state": {
      "_model_module": "@jupyter-widgets/controls",
      "_model_module_version": "1.5.0",
      "_model_name": "ProgressStyleModel",
      "_view_count": null,
      "_view_module": "@jupyter-widgets/base",
      "_view_module_version": "1.2.0",
      "_view_name": "StyleView",
      "bar_color": null,
      "description_width": ""
     }
    },
    "ccd53a237fc24405826d06a28220c9ba": {
     "model_module": "@jupyter-widgets/controls",
     "model_module_version": "1.5.0",
     "model_name": "HTMLModel",
     "state": {
      "_dom_classes": [],
      "_model_module": "@jupyter-widgets/controls",
      "_model_module_version": "1.5.0",
      "_model_name": "HTMLModel",
      "_view_count": null,
      "_view_module": "@jupyter-widgets/controls",
      "_view_module_version": "1.5.0",
      "_view_name": "HTMLView",
      "description": "",
      "description_tooltip": null,
      "layout": "IPY_MODEL_b7c9d10afabd4f448ba68b0f5f0cef50",
      "placeholder": "​",
      "style": "IPY_MODEL_9a46fa0e1b9449e08a371dd84d5d8f8e",
      "value": " 536M/536M [00:13&lt;00:00, 37.3MB/s]"
     }
    },
    "cd59858be7f3464889f46044e3ffc949": {
     "model_module": "@jupyter-widgets/controls",
     "model_module_version": "1.5.0",
     "model_name": "HBoxModel",
     "state": {
      "_dom_classes": [],
      "_model_module": "@jupyter-widgets/controls",
      "_model_module_version": "1.5.0",
      "_model_name": "HBoxModel",
      "_view_count": null,
      "_view_module": "@jupyter-widgets/controls",
      "_view_module_version": "1.5.0",
      "_view_name": "HBoxView",
      "box_style": "",
      "children": [
       "IPY_MODEL_bf500539addd43c699a704cef9b25e43",
       "IPY_MODEL_fd60254a5dc249ec829d2ccba9a642ff",
       "IPY_MODEL_b90cc73d8ae444969041b8672a7a9f5d"
      ],
      "layout": "IPY_MODEL_ceb401676f0145518e6b852e0804dacf"
     }
    },
    "ceb401676f0145518e6b852e0804dacf": {
     "model_module": "@jupyter-widgets/base",
     "model_module_version": "1.2.0",
     "model_name": "LayoutModel",
     "state": {
      "_model_module": "@jupyter-widgets/base",
      "_model_module_version": "1.2.0",
      "_model_name": "LayoutModel",
      "_view_count": null,
      "_view_module": "@jupyter-widgets/base",
      "_view_module_version": "1.2.0",
      "_view_name": "LayoutView",
      "align_content": null,
      "align_items": null,
      "align_self": null,
      "border": null,
      "bottom": null,
      "display": null,
      "flex": null,
      "flex_flow": null,
      "grid_area": null,
      "grid_auto_columns": null,
      "grid_auto_flow": null,
      "grid_auto_rows": null,
      "grid_column": null,
      "grid_gap": null,
      "grid_row": null,
      "grid_template_areas": null,
      "grid_template_columns": null,
      "grid_template_rows": null,
      "height": null,
      "justify_content": null,
      "justify_items": null,
      "left": null,
      "margin": null,
      "max_height": null,
      "max_width": null,
      "min_height": null,
      "min_width": null,
      "object_fit": null,
      "object_position": null,
      "order": null,
      "overflow": null,
      "overflow_x": null,
      "overflow_y": null,
      "padding": null,
      "right": null,
      "top": null,
      "visibility": null,
      "width": null
     }
    },
    "cee2a58676a1461288cfd0196a7f3877": {
     "model_module": "@jupyter-widgets/controls",
     "model_module_version": "1.5.0",
     "model_name": "HBoxModel",
     "state": {
      "_dom_classes": [],
      "_model_module": "@jupyter-widgets/controls",
      "_model_module_version": "1.5.0",
      "_model_name": "HBoxModel",
      "_view_count": null,
      "_view_module": "@jupyter-widgets/controls",
      "_view_module_version": "1.5.0",
      "_view_name": "HBoxView",
      "box_style": "",
      "children": [
       "IPY_MODEL_59cd5d5bcad44201a244136c03af6817",
       "IPY_MODEL_105ca3cea003438f95fbfd8dfb04fd30",
       "IPY_MODEL_ccd53a237fc24405826d06a28220c9ba"
      ],
      "layout": "IPY_MODEL_b302f5b324c845cab2a19a2755bd633a"
     }
    },
    "cf2ec10e47ce419dbef5c742ab3c4dfe": {
     "model_module": "@jupyter-widgets/controls",
     "model_module_version": "1.5.0",
     "model_name": "HTMLModel",
     "state": {
      "_dom_classes": [],
      "_model_module": "@jupyter-widgets/controls",
      "_model_module_version": "1.5.0",
      "_model_name": "HTMLModel",
      "_view_count": null,
      "_view_module": "@jupyter-widgets/controls",
      "_view_module_version": "1.5.0",
      "_view_name": "HTMLView",
      "description": "",
      "description_tooltip": null,
      "layout": "IPY_MODEL_d68f9ac02ec44e63983fb2e32d8a7503",
      "placeholder": "​",
      "style": "IPY_MODEL_e3249358f3f84f7bb5c2dbcd117359b8",
      "value": " 28.0/28.0 [00:00&lt;00:00, 903B/s]"
     }
    },
    "d68f9ac02ec44e63983fb2e32d8a7503": {
     "model_module": "@jupyter-widgets/base",
     "model_module_version": "1.2.0",
     "model_name": "LayoutModel",
     "state": {
      "_model_module": "@jupyter-widgets/base",
      "_model_module_version": "1.2.0",
      "_model_name": "LayoutModel",
      "_view_count": null,
      "_view_module": "@jupyter-widgets/base",
      "_view_module_version": "1.2.0",
      "_view_name": "LayoutView",
      "align_content": null,
      "align_items": null,
      "align_self": null,
      "border": null,
      "bottom": null,
      "display": null,
      "flex": null,
      "flex_flow": null,
      "grid_area": null,
      "grid_auto_columns": null,
      "grid_auto_flow": null,
      "grid_auto_rows": null,
      "grid_column": null,
      "grid_gap": null,
      "grid_row": null,
      "grid_template_areas": null,
      "grid_template_columns": null,
      "grid_template_rows": null,
      "height": null,
      "justify_content": null,
      "justify_items": null,
      "left": null,
      "margin": null,
      "max_height": null,
      "max_width": null,
      "min_height": null,
      "min_width": null,
      "object_fit": null,
      "object_position": null,
      "order": null,
      "overflow": null,
      "overflow_x": null,
      "overflow_y": null,
      "padding": null,
      "right": null,
      "top": null,
      "visibility": null,
      "width": null
     }
    },
    "da009d89130b41d394ff07c60540bc2e": {
     "model_module": "@jupyter-widgets/controls",
     "model_module_version": "1.5.0",
     "model_name": "HTMLModel",
     "state": {
      "_dom_classes": [],
      "_model_module": "@jupyter-widgets/controls",
      "_model_module_version": "1.5.0",
      "_model_name": "HTMLModel",
      "_view_count": null,
      "_view_module": "@jupyter-widgets/controls",
      "_view_module_version": "1.5.0",
      "_view_name": "HTMLView",
      "description": "",
      "description_tooltip": null,
      "layout": "IPY_MODEL_341bba1687d74bca9e45d16e3a0de821",
      "placeholder": "​",
      "style": "IPY_MODEL_98d1f94b320c4d31b224c0cb74f1e5c6",
      "value": "Downloading: 100%"
     }
    },
    "dbde3f22194b4f7b98b45149f41c1793": {
     "model_module": "@jupyter-widgets/controls",
     "model_module_version": "1.5.0",
     "model_name": "HTMLModel",
     "state": {
      "_dom_classes": [],
      "_model_module": "@jupyter-widgets/controls",
      "_model_module_version": "1.5.0",
      "_model_name": "HTMLModel",
      "_view_count": null,
      "_view_module": "@jupyter-widgets/controls",
      "_view_module_version": "1.5.0",
      "_view_name": "HTMLView",
      "description": "",
      "description_tooltip": null,
      "layout": "IPY_MODEL_7a8974d7d1bf456888e521f7ed4769eb",
      "placeholder": "​",
      "style": "IPY_MODEL_6239399404f04d2bad7f6fdada0ca2ea",
      "value": " 232k/232k [00:00&lt;00:00, 894kB/s]"
     }
    },
    "ddf13d2fb3cd4904b7277cf0c5533b53": {
     "model_module": "@jupyter-widgets/base",
     "model_module_version": "1.2.0",
     "model_name": "LayoutModel",
     "state": {
      "_model_module": "@jupyter-widgets/base",
      "_model_module_version": "1.2.0",
      "_model_name": "LayoutModel",
      "_view_count": null,
      "_view_module": "@jupyter-widgets/base",
      "_view_module_version": "1.2.0",
      "_view_name": "LayoutView",
      "align_content": null,
      "align_items": null,
      "align_self": null,
      "border": null,
      "bottom": null,
      "display": null,
      "flex": null,
      "flex_flow": null,
      "grid_area": null,
      "grid_auto_columns": null,
      "grid_auto_flow": null,
      "grid_auto_rows": null,
      "grid_column": null,
      "grid_gap": null,
      "grid_row": null,
      "grid_template_areas": null,
      "grid_template_columns": null,
      "grid_template_rows": null,
      "height": null,
      "justify_content": null,
      "justify_items": null,
      "left": null,
      "margin": null,
      "max_height": null,
      "max_width": null,
      "min_height": null,
      "min_width": null,
      "object_fit": null,
      "object_position": null,
      "order": null,
      "overflow": null,
      "overflow_x": null,
      "overflow_y": null,
      "padding": null,
      "right": null,
      "top": null,
      "visibility": null,
      "width": null
     }
    },
    "e3249358f3f84f7bb5c2dbcd117359b8": {
     "model_module": "@jupyter-widgets/controls",
     "model_module_version": "1.5.0",
     "model_name": "DescriptionStyleModel",
     "state": {
      "_model_module": "@jupyter-widgets/controls",
      "_model_module_version": "1.5.0",
      "_model_name": "DescriptionStyleModel",
      "_view_count": null,
      "_view_module": "@jupyter-widgets/base",
      "_view_module_version": "1.2.0",
      "_view_name": "StyleView",
      "description_width": ""
     }
    },
    "f05a0b38e3554061a7120548db1a7362": {
     "model_module": "@jupyter-widgets/controls",
     "model_module_version": "1.5.0",
     "model_name": "DescriptionStyleModel",
     "state": {
      "_model_module": "@jupyter-widgets/controls",
      "_model_module_version": "1.5.0",
      "_model_name": "DescriptionStyleModel",
      "_view_count": null,
      "_view_module": "@jupyter-widgets/base",
      "_view_module_version": "1.2.0",
      "_view_name": "StyleView",
      "description_width": ""
     }
    },
    "f1217df60af94d1b95a68b869df7405e": {
     "model_module": "@jupyter-widgets/base",
     "model_module_version": "1.2.0",
     "model_name": "LayoutModel",
     "state": {
      "_model_module": "@jupyter-widgets/base",
      "_model_module_version": "1.2.0",
      "_model_name": "LayoutModel",
      "_view_count": null,
      "_view_module": "@jupyter-widgets/base",
      "_view_module_version": "1.2.0",
      "_view_name": "LayoutView",
      "align_content": null,
      "align_items": null,
      "align_self": null,
      "border": null,
      "bottom": null,
      "display": null,
      "flex": null,
      "flex_flow": null,
      "grid_area": null,
      "grid_auto_columns": null,
      "grid_auto_flow": null,
      "grid_auto_rows": null,
      "grid_column": null,
      "grid_gap": null,
      "grid_row": null,
      "grid_template_areas": null,
      "grid_template_columns": null,
      "grid_template_rows": null,
      "height": null,
      "justify_content": null,
      "justify_items": null,
      "left": null,
      "margin": null,
      "max_height": null,
      "max_width": null,
      "min_height": null,
      "min_width": null,
      "object_fit": null,
      "object_position": null,
      "order": null,
      "overflow": null,
      "overflow_x": null,
      "overflow_y": null,
      "padding": null,
      "right": null,
      "top": null,
      "visibility": null,
      "width": null
     }
    },
    "f9067414a312443fb1b6ecad755ac608": {
     "model_module": "@jupyter-widgets/base",
     "model_module_version": "1.2.0",
     "model_name": "LayoutModel",
     "state": {
      "_model_module": "@jupyter-widgets/base",
      "_model_module_version": "1.2.0",
      "_model_name": "LayoutModel",
      "_view_count": null,
      "_view_module": "@jupyter-widgets/base",
      "_view_module_version": "1.2.0",
      "_view_name": "LayoutView",
      "align_content": null,
      "align_items": null,
      "align_self": null,
      "border": null,
      "bottom": null,
      "display": null,
      "flex": null,
      "flex_flow": null,
      "grid_area": null,
      "grid_auto_columns": null,
      "grid_auto_flow": null,
      "grid_auto_rows": null,
      "grid_column": null,
      "grid_gap": null,
      "grid_row": null,
      "grid_template_areas": null,
      "grid_template_columns": null,
      "grid_template_rows": null,
      "height": null,
      "justify_content": null,
      "justify_items": null,
      "left": null,
      "margin": null,
      "max_height": null,
      "max_width": null,
      "min_height": null,
      "min_width": null,
      "object_fit": null,
      "object_position": null,
      "order": null,
      "overflow": null,
      "overflow_x": null,
      "overflow_y": null,
      "padding": null,
      "right": null,
      "top": null,
      "visibility": null,
      "width": null
     }
    },
    "fd60254a5dc249ec829d2ccba9a642ff": {
     "model_module": "@jupyter-widgets/controls",
     "model_module_version": "1.5.0",
     "model_name": "FloatProgressModel",
     "state": {
      "_dom_classes": [],
      "_model_module": "@jupyter-widgets/controls",
      "_model_module_version": "1.5.0",
      "_model_name": "FloatProgressModel",
      "_view_count": null,
      "_view_module": "@jupyter-widgets/controls",
      "_view_module_version": "1.5.0",
      "_view_name": "ProgressView",
      "bar_style": "success",
      "description": "",
      "description_tooltip": null,
      "layout": "IPY_MODEL_549eba5340db4422a3d5f1f06c3689c4",
      "max": 570,
      "min": 0,
      "orientation": "horizontal",
      "style": "IPY_MODEL_c5bfb97513724929a85ab1164e404942",
      "value": 570
     }
    }
   }
  }
 },
 "nbformat": 4,
 "nbformat_minor": 1
}
